{
  "cells": [
    {
      "cell_type": "code",
      "execution_count": 1,
      "metadata": {
        "collapsed": true,
        "id": "JUqHvXBxaGAF"
      },
      "outputs": [],
      "source": [
        "import numpy as np\n",
        "import matplotlib.pyplot as plt\n",
        "import seaborn as sns\n",
        "import pandas as pd\n",
        "from tqdm.notebook import tqdm"
      ]
    },
    {
      "cell_type": "code",
      "source": [
        "# here are some metrics imports\n",
        "from sklearn.metrics import accuracy_score # for mean accuracy\n",
        "from sklearn.metrics import balanced_accuracy_score # takes into account class sizes\n",
        "\n",
        "# ROC-AUC\n",
        "from sklearn.metrics import RocCurveDisplay\n",
        "\n",
        "# for the full classification report\n",
        "from sklearn.metrics import classification_report\n",
        "\n",
        "# quick confusion matrices\n",
        "from sklearn.metrics import confusion_matrix"
      ],
      "metadata": {
        "id": "NnMkwKSl_vkd"
      },
      "execution_count": 2,
      "outputs": []
    },
    {
      "cell_type": "code",
      "execution_count": 3,
      "metadata": {
        "colab": {
          "base_uri": "https://localhost:8080/"
        },
        "id": "Bk869si_BnKm",
        "outputId": "49867be3-a3b9-40f8-d79a-227cb9371131"
      },
      "outputs": [
        {
          "output_type": "stream",
          "name": "stdout",
          "text": [
            "Mounted at /content/drive\n"
          ]
        }
      ],
      "source": [
        "from google.colab import drive\n",
        "drive.mount('/content/drive')"
      ]
    },
    {
      "cell_type": "markdown",
      "metadata": {
        "id": "SB90AAQNaGAA"
      },
      "source": [
        "This Jupyter notebook loads the raw amplitude and Mel spectrogram data files as numpy arrays.\n",
        "\n",
        "Download the data files [here](https://console.cloud.google.com/storage/browser/cs181_practical_data).  This notebook assumes that the data files as located in the same directory."
      ]
    },
    {
      "cell_type": "markdown",
      "metadata": {
        "id": "bF8D1EeWaGAH"
      },
      "source": [
        "### Load raw amplitude data (Ty's directory)"
      ]
    },
    {
      "cell_type": "code",
      "execution_count": null,
      "metadata": {
        "collapsed": true,
        "id": "o5F5QcycaGAH"
      },
      "outputs": [],
      "source": [
        "# Load train data\n",
        "X_amp_train = np.load(\"drive/MyDrive/Harvard/Spring 2022/CS181/Practical/data/Xtrain_amp.npy\")\n",
        "y_amp_train = np.load(\"drive/MyDrive/Harvard/Spring 2022/CS181/Practical/data/ytrain_amp.npy\")"
      ]
    },
    {
      "cell_type": "code",
      "execution_count": null,
      "metadata": {
        "colab": {
          "base_uri": "https://localhost:8080/"
        },
        "id": "7S244p5JaGAI",
        "outputId": "0eb87d1c-6c6d-4ea1-cdec-ce8c46d47373"
      },
      "outputs": [
        {
          "name": "stdout",
          "output_type": "stream",
          "text": [
            "(5553, 44100)\n"
          ]
        }
      ],
      "source": [
        "print(X_amp_train.shape)\n"
      ]
    },
    {
      "cell_type": "code",
      "execution_count": null,
      "metadata": {
        "collapsed": true,
        "id": "ft_c0sTTaGAI"
      },
      "outputs": [],
      "source": [
        "# Load test data\n",
        "\n",
        "X_amp_test = np.load(\"drive/MyDrive/Harvard/Spring 2022/CS181/Practical/data/Xtest_amp.npy\")\n",
        "y_amp_test = np.load(\"drive/MyDrive/Harvard/Spring 2022/CS181/Practical/data/ytest_amp.npy\")"
      ]
    },
    {
      "cell_type": "code",
      "execution_count": null,
      "metadata": {
        "colab": {
          "base_uri": "https://localhost:8080/"
        },
        "id": "EI2x9j-BaGAJ",
        "outputId": "fc6199e6-4404-4545-ee00-d3a5c29a852d"
      },
      "outputs": [
        {
          "data": {
            "text/plain": [
              "(2197, 44100)"
            ]
          },
          "execution_count": 5,
          "metadata": {},
          "output_type": "execute_result"
        }
      ],
      "source": [
        "X_amp_test.shape"
      ]
    },
    {
      "cell_type": "markdown",
      "metadata": {
        "id": "A6WaukB-aGAK"
      },
      "source": [
        "### Load Mel spectrogram data (Ty's directory)"
      ]
    },
    {
      "cell_type": "code",
      "execution_count": null,
      "metadata": {
        "collapsed": true,
        "id": "u4xbrk5UaGAK"
      },
      "outputs": [],
      "source": [
        "# Load train data\n",
        "\n",
        "X_mel_train = np.load(\"drive/MyDrive/Harvard/Spring 2022/CS181/Practical/data/Xtrain_mel.npy\")\n",
        "y_mel_train = np.load(\"drive/MyDrive/Harvard/Spring 2022/CS181/Practical/data/ytrain_mel.npy\")"
      ]
    },
    {
      "cell_type": "code",
      "execution_count": null,
      "metadata": {
        "colab": {
          "base_uri": "https://localhost:8080/"
        },
        "id": "jlJUKpBxaGAL",
        "outputId": "d058c241-12b2-4cec-b648-d56f300bba7a"
      },
      "outputs": [
        {
          "output_type": "execute_result",
          "data": {
            "text/plain": [
              "(5553, 128, 87)"
            ]
          },
          "metadata": {},
          "execution_count": 8
        }
      ],
      "source": [
        "X_mel_train.shape"
      ]
    },
    {
      "cell_type": "code",
      "execution_count": null,
      "metadata": {
        "colab": {
          "base_uri": "https://localhost:8080/"
        },
        "id": "fbI0rOAraGAM",
        "outputId": "f2565493-48ed-460c-e87c-c8912353d667"
      },
      "outputs": [
        {
          "output_type": "execute_result",
          "data": {
            "text/plain": [
              "(5553, 11136)"
            ]
          },
          "metadata": {},
          "execution_count": 9
        }
      ],
      "source": [
        "# Flatten X_mel_train's spectrogram features\n",
        "X_mel_train_flat = X_mel_train.reshape(X_mel_train.shape[0], -1)\n",
        "X_mel_train_flat.shape"
      ]
    },
    {
      "cell_type": "code",
      "execution_count": null,
      "metadata": {
        "collapsed": true,
        "id": "o6vB_OEcaGAM"
      },
      "outputs": [],
      "source": [
        "# Load test data\n",
        "\n",
        "X_mel_test = np.load(\"drive/MyDrive/Harvard/Spring 2022/CS181/Practical/data/Xtest_mel.npy\")\n",
        "y_mel_test = np.load(\"drive/MyDrive/Harvard/Spring 2022/CS181/Practical/data/ytest_mel.npy\")"
      ]
    },
    {
      "cell_type": "code",
      "execution_count": null,
      "metadata": {
        "colab": {
          "base_uri": "https://localhost:8080/"
        },
        "id": "7iQYsxx61yI6",
        "outputId": "9a612ed7-3c0a-42d8-9fb0-cb683b3566d3"
      },
      "outputs": [
        {
          "output_type": "execute_result",
          "data": {
            "text/plain": [
              "(2197, 11136)"
            ]
          },
          "metadata": {},
          "execution_count": 11
        }
      ],
      "source": [
        "# Flatten X_mel_test's spectrogram features\n",
        "X_mel_test_flat = X_mel_test.reshape(X_mel_test.shape[0], -1)\n",
        "X_mel_test_flat.shape"
      ]
    },
    {
      "cell_type": "code",
      "execution_count": null,
      "metadata": {
        "colab": {
          "base_uri": "https://localhost:8080/"
        },
        "id": "v0M5KyljaGAN",
        "outputId": "f030f0fb-727d-47d6-d961-9a61fc5349e5"
      },
      "outputs": [
        {
          "output_type": "execute_result",
          "data": {
            "text/plain": [
              "(2197, 128, 87)"
            ]
          },
          "metadata": {},
          "execution_count": 12
        }
      ],
      "source": [
        "X_mel_test.shape"
      ]
    },
    {
      "cell_type": "markdown",
      "metadata": {
        "id": "kNm-ci67_3Ek"
      },
      "source": [
        "### Load raw amplitude data (Ben's directory)"
      ]
    },
    {
      "cell_type": "code",
      "execution_count": 4,
      "metadata": {
        "collapsed": true,
        "id": "GliuZXTM_3Ek"
      },
      "outputs": [],
      "source": [
        "# Load train data\n",
        "X_amp_train = np.load(\"drive/My Drive/CS 181/Practical/data/Xtrain_amp.npy\")\n",
        "y_amp_train = np.load(\"drive/My Drive/CS 181/Practical/data/ytrain_amp.npy\")"
      ]
    },
    {
      "cell_type": "code",
      "execution_count": 5,
      "metadata": {
        "colab": {
          "base_uri": "https://localhost:8080/"
        },
        "id": "JHx5IHsE_3Ek",
        "outputId": "bad1ad19-74d3-40eb-e320-c7313dfc7676"
      },
      "outputs": [
        {
          "output_type": "stream",
          "name": "stdout",
          "text": [
            "(5553, 44100)\n"
          ]
        }
      ],
      "source": [
        "print(X_amp_train.shape)\n"
      ]
    },
    {
      "cell_type": "code",
      "execution_count": 6,
      "metadata": {
        "collapsed": true,
        "id": "14ppaiai_3El"
      },
      "outputs": [],
      "source": [
        "# Load test data\n",
        "\n",
        "X_amp_test = np.load(\"drive/My Drive/CS 181/Practical/data/Xtest_amp.npy\")\n",
        "y_amp_test = np.load(\"drive/My Drive/CS 181/Practical/data/ytest_amp.npy\")"
      ]
    },
    {
      "cell_type": "code",
      "execution_count": 7,
      "metadata": {
        "colab": {
          "base_uri": "https://localhost:8080/"
        },
        "id": "-Tkp_We6_3El",
        "outputId": "1aac6981-60da-41b8-9d60-7110f0227dd6"
      },
      "outputs": [
        {
          "output_type": "execute_result",
          "data": {
            "text/plain": [
              "(2197, 44100)"
            ]
          },
          "metadata": {},
          "execution_count": 7
        }
      ],
      "source": [
        "X_amp_test.shape"
      ]
    },
    {
      "cell_type": "markdown",
      "metadata": {
        "id": "vIivLTbTCR8Q"
      },
      "source": [
        "### Load Mel spectrogram data (Ben's directory)"
      ]
    },
    {
      "cell_type": "code",
      "execution_count": 8,
      "metadata": {
        "collapsed": true,
        "id": "nIgka2SuCR8R"
      },
      "outputs": [],
      "source": [
        "# Load train data\n",
        "\n",
        "X_mel_train = np.load(\"drive/My Drive/CS 181/Practical/data/Xtrain_mel.npy\")\n",
        "y_mel_train = np.load(\"drive/My Drive/CS 181/Practical/data/ytrain_mel.npy\")"
      ]
    },
    {
      "cell_type": "code",
      "execution_count": 9,
      "metadata": {
        "colab": {
          "base_uri": "https://localhost:8080/"
        },
        "id": "7Fl7NQfGCR8S",
        "outputId": "22d26c5d-44e8-433b-be5a-63f92bf5ca3e"
      },
      "outputs": [
        {
          "output_type": "execute_result",
          "data": {
            "text/plain": [
              "(5553, 128, 87)"
            ]
          },
          "metadata": {},
          "execution_count": 9
        }
      ],
      "source": [
        "X_mel_train.shape"
      ]
    },
    {
      "cell_type": "code",
      "execution_count": 10,
      "metadata": {
        "colab": {
          "base_uri": "https://localhost:8080/"
        },
        "id": "shwJhJgQCR8S",
        "outputId": "9e79cfd8-fde0-4ba3-913e-d881bc2123b2"
      },
      "outputs": [
        {
          "output_type": "execute_result",
          "data": {
            "text/plain": [
              "(5553, 11136)"
            ]
          },
          "metadata": {},
          "execution_count": 10
        }
      ],
      "source": [
        "# Flatten X_mel_train's spectrogram features\n",
        "X_mel_train_flat = X_mel_train.reshape(X_mel_train.shape[0], -1)\n",
        "X_mel_train_flat.shape"
      ]
    },
    {
      "cell_type": "code",
      "execution_count": 11,
      "metadata": {
        "collapsed": true,
        "id": "bhRV0BjJCR8S"
      },
      "outputs": [],
      "source": [
        "# Load test data\n",
        "\n",
        "X_mel_test = np.load(\"drive/My Drive/CS 181/Practical/data/Xtest_mel.npy\")\n",
        "y_mel_test = np.load(\"drive/My Drive/CS 181/Practical/data/ytest_mel.npy\")"
      ]
    },
    {
      "cell_type": "code",
      "execution_count": 12,
      "metadata": {
        "colab": {
          "base_uri": "https://localhost:8080/"
        },
        "id": "UMJxswEECR8S",
        "outputId": "4bf38526-6491-47aa-a0d5-faed9dcd13ff"
      },
      "outputs": [
        {
          "output_type": "execute_result",
          "data": {
            "text/plain": [
              "(2197, 11136)"
            ]
          },
          "metadata": {},
          "execution_count": 12
        }
      ],
      "source": [
        "# Flatten X_mel_test's spectrogram features\n",
        "X_mel_test_flat = X_mel_test.reshape(X_mel_test.shape[0], -1)\n",
        "X_mel_test_flat.shape"
      ]
    },
    {
      "cell_type": "code",
      "execution_count": 13,
      "metadata": {
        "colab": {
          "base_uri": "https://localhost:8080/"
        },
        "id": "Ji81LshZCR8T",
        "outputId": "c33f8ffe-9bb4-4357-f445-065bca3ff9ef"
      },
      "outputs": [
        {
          "output_type": "execute_result",
          "data": {
            "text/plain": [
              "(2197, 128, 87)"
            ]
          },
          "metadata": {},
          "execution_count": 13
        }
      ],
      "source": [
        "X_mel_test.shape"
      ]
    },
    {
      "cell_type": "markdown",
      "metadata": {
        "collapsed": true,
        "id": "AWI7kIiKaGAN"
      },
      "source": [
        "### FOR REFERENCE: Delete an object from local memory.\n",
        "\n",
        "The \"del\" keyword in Python is used to dereference objects from local memory.  You can use it to save memory by getting rid of variables that you don't intend to use anymore.\n",
        "\n",
        "For example, to delete the variable X_mel_train:"
      ]
    },
    {
      "cell_type": "code",
      "execution_count": null,
      "metadata": {
        "collapsed": true,
        "id": "B5M6LVflaGAN"
      },
      "outputs": [],
      "source": [
        "#del X_mel_train"
      ]
    },
    {
      "cell_type": "markdown",
      "metadata": {
        "id": "EhxbbrcTo__9"
      },
      "source": [
        "# Part 1: PCA & Logistic Regression"
      ]
    },
    {
      "cell_type": "code",
      "execution_count": 37,
      "metadata": {
        "id": "ksTmZWuJpKL4"
      },
      "outputs": [],
      "source": [
        "from sklearn.decomposition import PCA\n",
        "from sklearn.linear_model import LogisticRegression"
      ]
    },
    {
      "cell_type": "markdown",
      "metadata": {
        "id": "LpDesJVsT_c3"
      },
      "source": [
        "##AMP"
      ]
    },
    {
      "cell_type": "markdown",
      "metadata": {
        "id": "G4UVfjQLp974"
      },
      "source": [
        "Run PCA on AMP then fit logistic regression to top 500 components"
      ]
    },
    {
      "cell_type": "code",
      "execution_count": 38,
      "metadata": {
        "colab": {
          "base_uri": "https://localhost:8080/"
        },
        "collapsed": true,
        "id": "hkJKTPlsaGAO",
        "outputId": "a5689362-3986-4408-e3f9-1ffd1d46cba3"
      },
      "outputs": [
        {
          "output_type": "stream",
          "name": "stdout",
          "text": [
            "Lower-Dim PCA Representation Train Data Shape: (5553, 500)\n"
          ]
        }
      ],
      "source": [
        "# create our PCA object that will calculate the first 500 components.\n",
        "pca = PCA(n_components=500)\n",
        "\n",
        "# fit our PCA to the training data, and transform our data into its 500-dimensional representation\n",
        "X_amp_train_pca = pca.fit_transform(X_amp_train)\n",
        "\n",
        "# fit our PCA to shape of our lower dim representation\n",
        "print(f\"Lower-Dim PCA Representation Train Data Shape: {X_amp_train_pca.shape}\")"
      ]
    },
    {
      "cell_type": "code",
      "execution_count": 39,
      "metadata": {
        "colab": {
          "base_uri": "https://localhost:8080/"
        },
        "id": "F-PVNAX7h9Co",
        "outputId": "1cf3fc8c-d5e2-4165-9a0e-7825668adf74"
      },
      "outputs": [
        {
          "output_type": "stream",
          "name": "stderr",
          "text": [
            "/usr/local/lib/python3.7/dist-packages/sklearn/linear_model/_sag.py:354: ConvergenceWarning: The max_iter was reached which means the coef_ did not converge\n",
            "  ConvergenceWarning,\n"
          ]
        },
        {
          "output_type": "execute_result",
          "data": {
            "text/plain": [
              "LogisticRegression(C=0.25, max_iter=1000, solver='saga')"
            ]
          },
          "metadata": {},
          "execution_count": 39
        }
      ],
      "source": [
        "# train a logistic regression on the PCA transformed training data\n",
        "lr_pca = LogisticRegression(tol=0.0001, max_iter=1000, solver=\"saga\", C=0.25)\n",
        "lr_pca.fit(X_amp_train_pca, y_amp_train)"
      ]
    },
    {
      "cell_type": "markdown",
      "metadata": {
        "id": "-_T_l1HQ2s--"
      },
      "source": [
        "Checking accuracy for AMP"
      ]
    },
    {
      "cell_type": "code",
      "execution_count": 40,
      "metadata": {
        "colab": {
          "base_uri": "https://localhost:8080/"
        },
        "id": "Jj5sSQ1-mqqv",
        "outputId": "c76c28dc-3920-47b1-8514-84f9d2b6707b"
      },
      "outputs": [
        {
          "output_type": "stream",
          "name": "stdout",
          "text": [
            "Accuracy: 0.20163859808830223\n"
          ]
        }
      ],
      "source": [
        "# transform our testing data (DO NOT FIT AGAIN!)\n",
        "Xtest_amp_lowdim = pca.transform(X_amp_test)\n",
        "\n",
        "# make our test predictions\n",
        "preds_amp_lowdim = lr_pca.predict(Xtest_amp_lowdim)\n",
        "\n",
        "# check our accuracy\n",
        "print(f\"Accuracy: {np.mean(preds_amp_lowdim == y_amp_test)}\")"
      ]
    },
    {
      "cell_type": "code",
      "source": [
        "# Training Accuracy\n",
        "\n",
        "# make our test predictions\n",
        "preds_amp_lowdim_train = lr_pca.predict(X_amp_train_pca)\n",
        "\n",
        "# check our accuracy\n",
        "print(f\"Accuracy: {np.mean(preds_amp_lowdim_train == y_amp_train)}\")"
      ],
      "metadata": {
        "colab": {
          "base_uri": "https://localhost:8080/"
        },
        "id": "C9Skq55DAfxV",
        "outputId": "f48212a7-682e-409a-e15c-2553ba045cf9"
      },
      "execution_count": 41,
      "outputs": [
        {
          "output_type": "stream",
          "name": "stdout",
          "text": [
            "Accuracy: 0.3951017468035296\n"
          ]
        }
      ]
    },
    {
      "cell_type": "code",
      "source": [
        "# generate our classification report: precision, recall, f1, etc.\n",
        "print(classification_report(y_amp_test, preds_amp_lowdim))"
      ],
      "metadata": {
        "colab": {
          "base_uri": "https://localhost:8080/"
        },
        "id": "dmIgf_YqRtsu",
        "outputId": "171c2379-c1d4-453a-cdc4-c20e09c0b6d4"
      },
      "execution_count": 42,
      "outputs": [
        {
          "output_type": "stream",
          "name": "stdout",
          "text": [
            "              precision    recall  f1-score   support\n",
            "\n",
            "           0       0.24      0.23      0.24       300\n",
            "           1       0.00      0.00      0.00        39\n",
            "           2       0.25      0.67      0.37       299\n",
            "           3       0.18      0.05      0.08       229\n",
            "           4       0.14      0.08      0.10       264\n",
            "           5       0.19      0.17      0.18       264\n",
            "           6       0.00      0.00      0.00        30\n",
            "           7       0.10      0.10      0.10       236\n",
            "           8       0.14      0.10      0.12       236\n",
            "           9       0.20      0.17      0.18       300\n",
            "\n",
            "    accuracy                           0.20      2197\n",
            "   macro avg       0.14      0.16      0.14      2197\n",
            "weighted avg       0.18      0.20      0.17      2197\n",
            "\n"
          ]
        },
        {
          "output_type": "stream",
          "name": "stderr",
          "text": [
            "/usr/local/lib/python3.7/dist-packages/sklearn/metrics/_classification.py:1318: UndefinedMetricWarning: Precision and F-score are ill-defined and being set to 0.0 in labels with no predicted samples. Use `zero_division` parameter to control this behavior.\n",
            "  _warn_prf(average, modifier, msg_start, len(result))\n",
            "/usr/local/lib/python3.7/dist-packages/sklearn/metrics/_classification.py:1318: UndefinedMetricWarning: Precision and F-score are ill-defined and being set to 0.0 in labels with no predicted samples. Use `zero_division` parameter to control this behavior.\n",
            "  _warn_prf(average, modifier, msg_start, len(result))\n",
            "/usr/local/lib/python3.7/dist-packages/sklearn/metrics/_classification.py:1318: UndefinedMetricWarning: Precision and F-score are ill-defined and being set to 0.0 in labels with no predicted samples. Use `zero_division` parameter to control this behavior.\n",
            "  _warn_prf(average, modifier, msg_start, len(result))\n"
          ]
        }
      ]
    },
    {
      "cell_type": "code",
      "source": [
        "# Per Class Accuracy\n",
        "\n",
        "# confusion matrix: 0=benign, 1=malignant\n",
        "cfm = confusion_matrix(y_amp_test, preds_amp_lowdim)\n",
        "\n",
        "# we can plot our confusion matrices, and toggle the values to appear\n",
        "sns.heatmap(cfm, annot=True, fmt=\"d\")\n",
        "plt.title(\"AMP: PCA & Logistic Regression Confusion Matrix\")\n",
        "plt.xlabel(\"Predicted Class\")\n",
        "plt.ylabel(\"True Class\")\n",
        "plt.show()"
      ],
      "metadata": {
        "colab": {
          "base_uri": "https://localhost:8080/",
          "height": 295
        },
        "id": "sKHai_2-_jy8",
        "outputId": "27307d2f-43b2-4a76-de14-7a81910680b7"
      },
      "execution_count": 43,
      "outputs": [
        {
          "output_type": "display_data",
          "data": {
            "text/plain": [
              "<Figure size 432x288 with 2 Axes>"
            ],
            "image/png": "[encoded data removed]"
          },
          "metadata": {
            "needs_background": "light"
          }
        }
      ]
    },
    {
      "cell_type": "markdown",
      "metadata": {
        "id": "sKL_AvKTUCK3"
      },
      "source": [
        "##MEL"
      ]
    },
    {
      "cell_type": "markdown",
      "metadata": {
        "id": "MzZE02Dbrfal"
      },
      "source": [
        "Run PCA on MEL then fit logistic regression on top 500 components"
      ]
    },
    {
      "cell_type": "code",
      "execution_count": 44,
      "metadata": {
        "colab": {
          "base_uri": "https://localhost:8080/"
        },
        "id": "AmN3Cndrlek8",
        "outputId": "abed3b05-4def-4953-d34e-1fc50266e04a"
      },
      "outputs": [
        {
          "output_type": "stream",
          "name": "stdout",
          "text": [
            "Lower-Dim PCA Representation Train Data Shape: (5553, 500)\n"
          ]
        }
      ],
      "source": [
        "# create our PCA object that will calculate the first 500 components.\n",
        "pca = PCA(n_components=500)\n",
        "\n",
        "# fit our PCA to the training data, and transform our data into its 500-dimensional representation\n",
        "X_mel_train_pca = pca.fit_transform(X_mel_train_flat)\n",
        "\n",
        "# let's check the shape of our lower dim representation\n",
        "print(f\"Lower-Dim PCA Representation Train Data Shape: {X_mel_train_pca.shape}\")\n",
        "\n"
      ]
    },
    {
      "cell_type": "code",
      "execution_count": 45,
      "metadata": {
        "colab": {
          "base_uri": "https://localhost:8080/"
        },
        "id": "H3SPJfK-lfXn",
        "outputId": "6f2418a1-6ffb-415a-ff9b-9aedea7245c0"
      },
      "outputs": [
        {
          "output_type": "stream",
          "name": "stderr",
          "text": [
            "[Parallel(n_jobs=-1)]: Using backend ThreadingBackend with 2 concurrent workers.\n"
          ]
        },
        {
          "output_type": "stream",
          "name": "stdout",
          "text": [
            "max_iter reached after 190 seconds\n"
          ]
        },
        {
          "output_type": "stream",
          "name": "stderr",
          "text": [
            "/usr/local/lib/python3.7/dist-packages/sklearn/linear_model/_sag.py:354: ConvergenceWarning: The max_iter was reached which means the coef_ did not converge\n",
            "  ConvergenceWarning,\n",
            "[Parallel(n_jobs=-1)]: Done   1 out of   1 | elapsed:  3.2min finished\n"
          ]
        },
        {
          "output_type": "execute_result",
          "data": {
            "text/plain": [
              "LogisticRegression(C=2.0, max_iter=1000, n_jobs=-1, solver='saga', verbose=1)"
            ]
          },
          "metadata": {},
          "execution_count": 45
        }
      ],
      "source": [
        "# train a logistic regression on the PCA transformed training data\n",
        "lr_mel_pca = LogisticRegression(tol=0.0001, max_iter=1000, solver=\"saga\", n_jobs=-1, verbose=1, C=2.0)\n",
        "lr_mel_pca.fit(X_mel_train_pca, y_mel_train)"
      ]
    },
    {
      "cell_type": "markdown",
      "metadata": {
        "id": "ykQI3geQ26Yn"
      },
      "source": [
        "Checking accuracy for MEL"
      ]
    },
    {
      "cell_type": "code",
      "execution_count": 46,
      "metadata": {
        "colab": {
          "base_uri": "https://localhost:8080/"
        },
        "id": "wQ3lsFG8nNQy",
        "outputId": "0be18f71-55d5-4c32-ed07-040fd693be51"
      },
      "outputs": [
        {
          "output_type": "stream",
          "name": "stdout",
          "text": [
            "Accuracy: 0.3336367774237597\n"
          ]
        }
      ],
      "source": [
        "# transform our testing data (DO NOT FIT AGAIN!)\n",
        "Xtest_mel_lowdim = pca.transform(X_mel_test_flat)\n",
        "\n",
        "# make our test predictions\n",
        "preds_mel_lowdim = lr_mel_pca.predict(Xtest_mel_lowdim)\n",
        "\n",
        "# check our accuracy\n",
        "print(f\"Accuracy: {np.mean(preds_mel_lowdim == y_mel_test)}\")"
      ]
    },
    {
      "cell_type": "code",
      "source": [
        "# Training Accuracy\n",
        "\n",
        "# make our test predictions\n",
        "preds_mel_lowdim_train = lr_mel_pca.predict(X_mel_train_pca)\n",
        "\n",
        "# check our accuracy\n",
        "print(f\"Accuracy: {np.mean(preds_mel_lowdim_train == y_mel_train)}\")"
      ],
      "metadata": {
        "colab": {
          "base_uri": "https://localhost:8080/"
        },
        "id": "eIxxP8XUAyQz",
        "outputId": "d4f24a82-0d8f-42a0-ec9f-2fb195e281cf"
      },
      "execution_count": 47,
      "outputs": [
        {
          "output_type": "stream",
          "name": "stdout",
          "text": [
            "Accuracy: 0.46011165135962545\n"
          ]
        }
      ]
    },
    {
      "cell_type": "code",
      "source": [
        "# generate our classification report: precision, recall, f1, etc.\n",
        "print(classification_report(y_mel_test, preds_mel_lowdim))"
      ],
      "metadata": {
        "colab": {
          "base_uri": "https://localhost:8080/"
        },
        "id": "2ARXgUKWV3Yb",
        "outputId": "aeda8c8a-dfe7-476e-e346-d33438a80a11"
      },
      "execution_count": 48,
      "outputs": [
        {
          "output_type": "stream",
          "name": "stdout",
          "text": [
            "              precision    recall  f1-score   support\n",
            "\n",
            "           0       0.30      0.24      0.27       300\n",
            "           1       0.44      0.41      0.43        39\n",
            "           2       0.25      0.86      0.38       299\n",
            "           3       0.50      0.19      0.28       229\n",
            "           4       0.44      0.27      0.33       264\n",
            "           5       0.51      0.36      0.42       264\n",
            "           6       0.50      0.23      0.32        30\n",
            "           7       0.18      0.11      0.13       236\n",
            "           8       0.56      0.41      0.47       236\n",
            "           9       0.42      0.17      0.24       300\n",
            "\n",
            "    accuracy                           0.33      2197\n",
            "   macro avg       0.41      0.32      0.33      2197\n",
            "weighted avg       0.39      0.33      0.32      2197\n",
            "\n"
          ]
        }
      ]
    },
    {
      "cell_type": "code",
      "source": [
        "# Per Class Accuracy\n",
        "\n",
        "# confusion matrix: 0=benign, 1=malignant\n",
        "cfm = confusion_matrix(y_mel_test, preds_mel_lowdim)\n",
        "\n",
        "# we can plot our confusion matrices, and toggle the values to appear\n",
        "sns.heatmap(cfm, annot=True, fmt=\"d\")\n",
        "plt.title(\"MEL: PCA & Logistic Regression Confusion Matrix\")\n",
        "plt.xlabel(\"Predicted Class\")\n",
        "plt.ylabel(\"True Class\")\n",
        "plt.show()"
      ],
      "metadata": {
        "colab": {
          "base_uri": "https://localhost:8080/",
          "height": 295
        },
        "id": "7NppZVpV_9eI",
        "outputId": "3e50a1a1-fced-46f9-8c2e-96c0c033fa18"
      },
      "execution_count": 49,
      "outputs": [
        {
          "output_type": "display_data",
          "data": {
            "text/plain": [
              "<Figure size 432x288 with 2 Axes>"
            ],
            "image/png": "[encoded data removed]"
          },
          "metadata": {
            "needs_background": "light"
          }
        }
      ]
    },
    {
      "cell_type": "markdown",
      "metadata": {
        "id": "YX4l-dWbQtKz"
      },
      "source": [
        "# Part 2: Random Forest"
      ]
    },
    {
      "cell_type": "markdown",
      "metadata": {
        "id": "B4khgm9DUHe4"
      },
      "source": [
        "##AMP"
      ]
    },
    {
      "cell_type": "code",
      "execution_count": 14,
      "metadata": {
        "colab": {
          "base_uri": "https://localhost:8080/"
        },
        "id": "exsFLnGCQwGs",
        "outputId": "7140aae0-c461-48d1-b8fd-21c90942f53e"
      },
      "outputs": [
        {
          "output_type": "stream",
          "name": "stdout",
          "text": [
            "0.27309968138370505\n"
          ]
        }
      ],
      "source": [
        "from sklearn.ensemble import RandomForestClassifier\n",
        "\n",
        "# RandomForest\n",
        "model = RandomForestClassifier(n_estimators=500, max_depth=32, n_jobs=-1)\n",
        "model.fit(X_amp_train.reshape(X_amp_train.shape[0], -1), y_amp_train)\n",
        "\n",
        "# make our predictions\n",
        "rf_preds = model.predict(X_amp_test.reshape(X_amp_test.shape[0], -1))\n",
        "print(np.mean(rf_preds == y_amp_test))"
      ]
    },
    {
      "cell_type": "code",
      "source": [
        "# Training Accuracy\n",
        "\n",
        "# make our test predictions\n",
        "rf_preds_amp_train = model.predict(X_amp_train.reshape(X_amp_train.shape[0], -1))\n",
        "\n",
        "# check our accuracy\n",
        "print(f\"Accuracy: {np.mean(rf_preds_amp_train == y_amp_train)}\")"
      ],
      "metadata": {
        "colab": {
          "base_uri": "https://localhost:8080/"
        },
        "id": "5CIOn8-nA762",
        "outputId": "75e5b239-e0f7-43ed-d490-d65ee9d24ea6"
      },
      "execution_count": 15,
      "outputs": [
        {
          "output_type": "stream",
          "name": "stdout",
          "text": [
            "Accuracy: 1.0\n"
          ]
        }
      ]
    },
    {
      "cell_type": "code",
      "source": [
        "# generate our classification report: precision, recall, f1, etc.\n",
        "print(classification_report(y_amp_test, rf_preds))"
      ],
      "metadata": {
        "colab": {
          "base_uri": "https://localhost:8080/"
        },
        "id": "hQ1ZqBTnWArV",
        "outputId": "6e68187b-9e6d-4f5b-8633-9a11f1c3d8d6"
      },
      "execution_count": 16,
      "outputs": [
        {
          "output_type": "stream",
          "name": "stdout",
          "text": [
            "              precision    recall  f1-score   support\n",
            "\n",
            "           0       0.14      0.02      0.04       300\n",
            "           1       0.00      0.00      0.00        39\n",
            "           2       0.29      0.70      0.41       299\n",
            "           3       0.38      0.29      0.33       229\n",
            "           4       0.30      0.22      0.26       264\n",
            "           5       0.37      0.46      0.41       264\n",
            "           6       0.00      0.00      0.00        30\n",
            "           7       0.19      0.39      0.26       236\n",
            "           8       0.25      0.03      0.05       236\n",
            "           9       0.20      0.14      0.17       300\n",
            "\n",
            "    accuracy                           0.27      2197\n",
            "   macro avg       0.21      0.23      0.19      2197\n",
            "weighted avg       0.25      0.27      0.23      2197\n",
            "\n"
          ]
        },
        {
          "output_type": "stream",
          "name": "stderr",
          "text": [
            "/usr/local/lib/python3.7/dist-packages/sklearn/metrics/_classification.py:1318: UndefinedMetricWarning: Precision and F-score are ill-defined and being set to 0.0 in labels with no predicted samples. Use `zero_division` parameter to control this behavior.\n",
            "  _warn_prf(average, modifier, msg_start, len(result))\n",
            "/usr/local/lib/python3.7/dist-packages/sklearn/metrics/_classification.py:1318: UndefinedMetricWarning: Precision and F-score are ill-defined and being set to 0.0 in labels with no predicted samples. Use `zero_division` parameter to control this behavior.\n",
            "  _warn_prf(average, modifier, msg_start, len(result))\n",
            "/usr/local/lib/python3.7/dist-packages/sklearn/metrics/_classification.py:1318: UndefinedMetricWarning: Precision and F-score are ill-defined and being set to 0.0 in labels with no predicted samples. Use `zero_division` parameter to control this behavior.\n",
            "  _warn_prf(average, modifier, msg_start, len(result))\n"
          ]
        }
      ]
    },
    {
      "cell_type": "code",
      "source": [
        "# Per Class Accuracy\n",
        "\n",
        "# confusion matrix\n",
        "cfm = confusion_matrix(y_amp_test, rf_preds)\n",
        "\n",
        "# we can plot our confusion matrices, and toggle the values to appear\n",
        "sns.heatmap(cfm, annot=True, fmt=\"d\")\n",
        "plt.title(\"AMP: Random Forest Confusion Matrix\")\n",
        "plt.xlabel(\"Predicted Class\")\n",
        "plt.ylabel(\"True Class\")\n",
        "plt.show()"
      ],
      "metadata": {
        "colab": {
          "base_uri": "https://localhost:8080/",
          "height": 295
        },
        "id": "033-1NBpABvp",
        "outputId": "3733bdbf-6eab-4138-cbda-d8d39bbcea05"
      },
      "execution_count": 15,
      "outputs": [
        {
          "output_type": "display_data",
          "data": {
            "text/plain": [
              "<Figure size 432x288 with 2 Axes>"
            ],
            "image/png": "[encoded data removed]"
          },
          "metadata": {
            "needs_background": "light"
          }
        }
      ]
    },
    {
      "cell_type": "markdown",
      "metadata": {
        "id": "ZZLTEddlUJoh"
      },
      "source": [
        "##MEL"
      ]
    },
    {
      "cell_type": "code",
      "execution_count": 16,
      "metadata": {
        "id": "XFNR9Geptc_q",
        "colab": {
          "base_uri": "https://localhost:8080/"
        },
        "outputId": "ff4ac4b0-24cf-4e73-8db9-5b17e451ff0c"
      },
      "outputs": [
        {
          "output_type": "stream",
          "name": "stdout",
          "text": [
            "0.48793809740555305\n"
          ]
        }
      ],
      "source": [
        "from sklearn.ensemble import RandomForestClassifier\n",
        "\n",
        "# RandomForest\n",
        "model = RandomForestClassifier(n_estimators=500, max_depth=32, n_jobs=-1)\n",
        "model.fit(X_mel_train_flat.reshape(X_mel_train_flat.shape[0], -1), y_mel_train)\n",
        "\n",
        "# make our predictions\n",
        "rf_preds_mel = model.predict(X_mel_test_flat.reshape(X_mel_test_flat.shape[0], -1))\n",
        "print(np.mean(rf_preds_mel == y_mel_test))"
      ]
    },
    {
      "cell_type": "code",
      "source": [
        "# Training Accuracy\n",
        "\n",
        "# make our test predictions\n",
        "rf_preds_mel_train = model.predict(X_mel_train.reshape(X_mel_train.shape[0], -1))\n",
        "\n",
        "# check our accuracy\n",
        "print(f\"Accuracy: {np.mean(rf_preds_mel_train == y_mel_train)}\")"
      ],
      "metadata": {
        "colab": {
          "base_uri": "https://localhost:8080/"
        },
        "id": "y2XpGf91BNix",
        "outputId": "015057d5-0a9c-4995-e257-87f2d6d0f66a"
      },
      "execution_count": 17,
      "outputs": [
        {
          "output_type": "stream",
          "name": "stdout",
          "text": [
            "Accuracy: 1.0\n"
          ]
        }
      ]
    },
    {
      "cell_type": "code",
      "source": [
        "# generate our classification report: precision, recall, f1, etc.\n",
        "print(classification_report(y_amp_test, rf_preds_mel))"
      ],
      "metadata": {
        "colab": {
          "base_uri": "https://localhost:8080/"
        },
        "id": "_NmfBJSiWFiK",
        "outputId": "ea818841-398f-42ff-ad0b-44c71cf5ed05"
      },
      "execution_count": 18,
      "outputs": [
        {
          "output_type": "stream",
          "name": "stdout",
          "text": [
            "              precision    recall  f1-score   support\n",
            "\n",
            "           0       0.41      0.37      0.39       300\n",
            "           1       0.82      0.23      0.36        39\n",
            "           2       0.43      0.55      0.48       299\n",
            "           3       0.54      0.44      0.49       229\n",
            "           4       0.46      0.58      0.52       264\n",
            "           5       0.55      0.44      0.48       264\n",
            "           6       1.00      0.43      0.60        30\n",
            "           7       0.47      0.47      0.47       236\n",
            "           8       0.55      0.56      0.55       236\n",
            "           9       0.51      0.55      0.53       300\n",
            "\n",
            "    accuracy                           0.49      2197\n",
            "   macro avg       0.57      0.46      0.49      2197\n",
            "weighted avg       0.50      0.49      0.49      2197\n",
            "\n"
          ]
        }
      ]
    },
    {
      "cell_type": "code",
      "source": [
        "# Per Class Accuracy\n",
        "\n",
        "# confusion matrix\n",
        "cfm = confusion_matrix(y_mel_test, rf_preds_mel)\n",
        "\n",
        "# we can plot our confusion matrices, and toggle the values to appear\n",
        "sns.heatmap(cfm, annot=True, fmt=\"d\")\n",
        "plt.title(\"MEL: Random Forest Confusion Matrix\")\n",
        "plt.xlabel(\"Predicted Class\")\n",
        "plt.ylabel(\"True Class\")\n",
        "plt.show()"
      ],
      "metadata": {
        "colab": {
          "base_uri": "https://localhost:8080/",
          "height": 295
        },
        "id": "36k_TLJZ-PKM",
        "outputId": "4c5f3b24-f930-411f-9775-1eb0600499d7"
      },
      "execution_count": 19,
      "outputs": [
        {
          "output_type": "display_data",
          "data": {
            "text/plain": [
              "<Figure size 432x288 with 2 Axes>"
            ],
            "image/png": "[encoded data removed]"
          },
          "metadata": {
            "needs_background": "light"
          }
        }
      ]
    },
    {
      "cell_type": "markdown",
      "metadata": {
        "id": "4uqVdSnfwK3Z"
      },
      "source": [
        "#Hyperparameters: PCA & Logistic Regression"
      ]
    },
    {
      "cell_type": "code",
      "execution_count": null,
      "metadata": {
        "id": "7Zy6YVzVwOSG"
      },
      "outputs": [],
      "source": [
        "from sklearn.decomposition import PCA\n",
        "from sklearn.linear_model import LogisticRegression\n",
        "from sklearn.model_selection import GridSearchCV"
      ]
    },
    {
      "cell_type": "markdown",
      "metadata": {
        "id": "UIIcz0cpTNho"
      },
      "source": [
        "##AMP"
      ]
    },
    {
      "cell_type": "code",
      "execution_count": null,
      "metadata": {
        "colab": {
          "base_uri": "https://localhost:8080/"
        },
        "id": "_1nSFfn5wV2m",
        "outputId": "40b84c42-fdae-4e24-8b33-31282702e6fa"
      },
      "outputs": [
        {
          "name": "stdout",
          "output_type": "stream",
          "text": [
            "Lower-Dim PCA Representation Train Data Shape: (5553, 500)\n"
          ]
        }
      ],
      "source": [
        "# create our PCA object that will calculate the first 500 components.\n",
        "pca = PCA(n_components=500)\n",
        "\n",
        "# fit our PCA to the training data, and transform our data into its 500-dimensional representation\n",
        "X_amp_train_pca = pca.fit_transform(X_amp_train)\n",
        "\n",
        "# fit our PCA to shape of our lower dim representation\n",
        "print(f\"Lower-Dim PCA Representation Train Data Shape: {X_amp_train_pca.shape}\")"
      ]
    },
    {
      "cell_type": "code",
      "execution_count": null,
      "metadata": {
        "colab": {
          "base_uri": "https://localhost:8080/"
        },
        "id": "lSHRflPnwYlI",
        "outputId": "dce473aa-d606-4411-8f40-0cf701db9ec5"
      },
      "outputs": [
        {
          "name": "stdout",
          "output_type": "stream",
          "text": [
            "Fitting 5 folds for each of 5 candidates, totalling 25 fits\n"
          ]
        },
        {
          "name": "stderr",
          "output_type": "stream",
          "text": [
            "/usr/local/lib/python3.7/dist-packages/sklearn/linear_model/_sag.py:354: ConvergenceWarning: The max_iter was reached which means the coef_ did not converge\n",
            "  ConvergenceWarning,\n"
          ]
        },
        {
          "data": {
            "text/plain": [
              "GridSearchCV(estimator=LogisticRegression(max_iter=1000, solver='saga'),\n",
              "             n_jobs=-1, param_grid={'C': [0.25, 0.5, 1, 1.5, 2.0]}, verbose=1)"
            ]
          },
          "execution_count": 24,
          "metadata": {},
          "output_type": "execute_result"
        }
      ],
      "source": [
        "# train a logistic regression on the PCA transformed training data for AMP\n",
        "lr_pca = LogisticRegression(solver='saga', max_iter=1000)\n",
        "\n",
        "#param_grid = {'solvers' : ['newton-cg', 'lbfgs', 'saga', 'liblinear', 'sag'], 'max_iter' : [1000], 'C' : [0.25, 0.5, 1, 1.5, 2.0],}\n",
        "\n",
        "param_grid = {'C' : [0.25, 0.5, 1, 1.5, 2.0],}\n",
        "\n",
        "LOG_CV = GridSearchCV(estimator=lr_pca, param_grid=param_grid, n_jobs=-1, cv=None, verbose=1)\n",
        "\n",
        "\n",
        "LOG_CV.fit(X_amp_train_pca, y_amp_train)\n"
      ]
    },
    {
      "cell_type": "code",
      "execution_count": null,
      "metadata": {
        "colab": {
          "base_uri": "https://localhost:8080/",
          "height": 339
        },
        "id": "1t7fU-JCK-Fi",
        "outputId": "aab7f977-7845-40a1-f2b5-5514f0ffd2e5"
      },
      "outputs": [
        {
          "data": {
            "text/html": [
              "\n",
              "  <div id=\"df-410807ab-97ec-4c94-9a4a-8155bdada36d\">\n",
              "    <div class=\"colab-df-container\">\n",
              "      <div>\n",
              "<style scoped>\n",
              "    .dataframe tbody tr th:only-of-type {\n",
              "        vertical-align: middle;\n",
              "    }\n",
              "\n",
              "    .dataframe tbody tr th {\n",
              "        vertical-align: top;\n",
              "    }\n",
              "\n",
              "    .dataframe thead th {\n",
              "        text-align: right;\n",
              "    }\n",
              "</style>\n",
              "<table border=\"1\" class=\"dataframe\">\n",
              "  <thead>\n",
              "    <tr style=\"text-align: right;\">\n",
              "      <th></th>\n",
              "      <th>mean_fit_time</th>\n",
              "      <th>std_fit_time</th>\n",
              "      <th>mean_score_time</th>\n",
              "      <th>std_score_time</th>\n",
              "      <th>param_C</th>\n",
              "      <th>params</th>\n",
              "      <th>split0_test_score</th>\n",
              "      <th>split1_test_score</th>\n",
              "      <th>split2_test_score</th>\n",
              "      <th>split3_test_score</th>\n",
              "      <th>split4_test_score</th>\n",
              "      <th>mean_test_score</th>\n",
              "      <th>std_test_score</th>\n",
              "      <th>rank_test_score</th>\n",
              "    </tr>\n",
              "  </thead>\n",
              "  <tbody>\n",
              "    <tr>\n",
              "      <th>0</th>\n",
              "      <td>259.804150</td>\n",
              "      <td>0.769485</td>\n",
              "      <td>0.004304</td>\n",
              "      <td>0.001330</td>\n",
              "      <td>0.25</td>\n",
              "      <td>{'C': 0.25}</td>\n",
              "      <td>0.151215</td>\n",
              "      <td>0.205221</td>\n",
              "      <td>0.186319</td>\n",
              "      <td>0.148649</td>\n",
              "      <td>0.164865</td>\n",
              "      <td>0.171254</td>\n",
              "      <td>0.021606</td>\n",
              "      <td>1</td>\n",
              "    </tr>\n",
              "    <tr>\n",
              "      <th>1</th>\n",
              "      <td>259.382307</td>\n",
              "      <td>0.395981</td>\n",
              "      <td>0.003326</td>\n",
              "      <td>0.000183</td>\n",
              "      <td>0.5</td>\n",
              "      <td>{'C': 0.5}</td>\n",
              "      <td>0.150315</td>\n",
              "      <td>0.205221</td>\n",
              "      <td>0.187219</td>\n",
              "      <td>0.145946</td>\n",
              "      <td>0.163063</td>\n",
              "      <td>0.170353</td>\n",
              "      <td>0.022586</td>\n",
              "      <td>2</td>\n",
              "    </tr>\n",
              "    <tr>\n",
              "      <th>2</th>\n",
              "      <td>257.214392</td>\n",
              "      <td>0.420016</td>\n",
              "      <td>0.003185</td>\n",
              "      <td>0.000152</td>\n",
              "      <td>1</td>\n",
              "      <td>{'C': 1}</td>\n",
              "      <td>0.148515</td>\n",
              "      <td>0.199820</td>\n",
              "      <td>0.184518</td>\n",
              "      <td>0.144144</td>\n",
              "      <td>0.160360</td>\n",
              "      <td>0.167472</td>\n",
              "      <td>0.021406</td>\n",
              "      <td>3</td>\n",
              "    </tr>\n",
              "    <tr>\n",
              "      <th>3</th>\n",
              "      <td>257.215710</td>\n",
              "      <td>0.691126</td>\n",
              "      <td>0.003159</td>\n",
              "      <td>0.000149</td>\n",
              "      <td>1.5</td>\n",
              "      <td>{'C': 1.5}</td>\n",
              "      <td>0.148515</td>\n",
              "      <td>0.199820</td>\n",
              "      <td>0.184518</td>\n",
              "      <td>0.144144</td>\n",
              "      <td>0.160360</td>\n",
              "      <td>0.167472</td>\n",
              "      <td>0.021406</td>\n",
              "      <td>3</td>\n",
              "    </tr>\n",
              "    <tr>\n",
              "      <th>4</th>\n",
              "      <td>236.090034</td>\n",
              "      <td>42.735619</td>\n",
              "      <td>0.003168</td>\n",
              "      <td>0.000381</td>\n",
              "      <td>2.0</td>\n",
              "      <td>{'C': 2.0}</td>\n",
              "      <td>0.148515</td>\n",
              "      <td>0.199820</td>\n",
              "      <td>0.184518</td>\n",
              "      <td>0.144144</td>\n",
              "      <td>0.160360</td>\n",
              "      <td>0.167472</td>\n",
              "      <td>0.021406</td>\n",
              "      <td>3</td>\n",
              "    </tr>\n",
              "  </tbody>\n",
              "</table>\n",
              "</div>\n",
              "      <button class=\"colab-df-convert\" onclick=\"convertToInteractive('df-410807ab-97ec-4c94-9a4a-8155bdada36d')\"\n",
              "              title=\"Convert this dataframe to an interactive table.\"\n",
              "              style=\"display:none;\">\n",
              "        \n",
              "  <svg xmlns=\"http://www.w3.org/2000/svg\" height=\"24px\"viewBox=\"0 0 24 24\"\n",
              "       width=\"24px\">\n",
              "    <path d=\"M0 0h24v24H0V0z\" fill=\"none\"/>\n",
              "    <path d=\"M18.56 5.44l.94 2.06.94-2.06 2.06-.94-2.06-.94-.94-2.06-.94 2.06-2.06.94zm-11 1L8.5 8.5l.94-2.06 2.06-.94-2.06-.94L8.5 2.5l-.94 2.06-2.06.94zm10 10l.94 2.06.94-2.06 2.06-.94-2.06-.94-.94-2.06-.94 2.06-2.06.94z\"/><path d=\"M17.41 7.96l-1.37-1.37c-.4-.4-.92-.59-1.43-.59-.52 0-1.04.2-1.43.59L10.3 9.45l-7.72 7.72c-.78.78-.78 2.05 0 2.83L4 21.41c.39.39.9.59 1.41.59.51 0 1.02-.2 1.41-.59l7.78-7.78 2.81-2.81c.8-.78.8-2.07 0-2.86zM5.41 20L4 18.59l7.72-7.72 1.47 1.35L5.41 20z\"/>\n",
              "  </svg>\n",
              "      </button>\n",
              "      \n",
              "  <style>\n",
              "    .colab-df-container {\n",
              "      display:flex;\n",
              "      flex-wrap:wrap;\n",
              "      gap: 12px;\n",
              "    }\n",
              "\n",
              "    .colab-df-convert {\n",
              "      background-color: #E8F0FE;\n",
              "      border: none;\n",
              "      border-radius: 50%;\n",
              "      cursor: pointer;\n",
              "      display: none;\n",
              "      fill: #1967D2;\n",
              "      height: 32px;\n",
              "      padding: 0 0 0 0;\n",
              "      width: 32px;\n",
              "    }\n",
              "\n",
              "    .colab-df-convert:hover {\n",
              "      background-color: #E2EBFA;\n",
              "      box-shadow: 0px 1px 2px rgba(60, 64, 67, 0.3), 0px 1px 3px 1px rgba(60, 64, 67, 0.15);\n",
              "      fill: #174EA6;\n",
              "    }\n",
              "\n",
              "    [theme=dark] .colab-df-convert {\n",
              "      background-color: #3B4455;\n",
              "      fill: #D2E3FC;\n",
              "    }\n",
              "\n",
              "    [theme=dark] .colab-df-convert:hover {\n",
              "      background-color: #434B5C;\n",
              "      box-shadow: 0px 1px 3px 1px rgba(0, 0, 0, 0.15);\n",
              "      filter: drop-shadow(0px 1px 2px rgba(0, 0, 0, 0.3));\n",
              "      fill: #FFFFFF;\n",
              "    }\n",
              "  </style>\n",
              "\n",
              "      <script>\n",
              "        const buttonEl =\n",
              "          document.querySelector('#df-410807ab-97ec-4c94-9a4a-8155bdada36d button.colab-df-convert');\n",
              "        buttonEl.style.display =\n",
              "          google.colab.kernel.accessAllowed ? 'block' : 'none';\n",
              "\n",
              "        async function convertToInteractive(key) {\n",
              "          const element = document.querySelector('#df-410807ab-97ec-4c94-9a4a-8155bdada36d');\n",
              "          const dataTable =\n",
              "            await google.colab.kernel.invokeFunction('convertToInteractive',\n",
              "                                                     [key], {});\n",
              "          if (!dataTable) return;\n",
              "\n",
              "          const docLinkHtml = 'Like what you see? Visit the ' +\n",
              "            '<a target=\"_blank\" href=https://colab.research.google.com/notebooks/data_table.ipynb>data table notebook</a>'\n",
              "            + ' to learn more about interactive tables.';\n",
              "          element.innerHTML = '';\n",
              "          dataTable['output_type'] = 'display_data';\n",
              "          await google.colab.output.renderOutput(dataTable, element);\n",
              "          const docLink = document.createElement('div');\n",
              "          docLink.innerHTML = docLinkHtml;\n",
              "          element.appendChild(docLink);\n",
              "        }\n",
              "      </script>\n",
              "    </div>\n",
              "  </div>\n",
              "  "
            ],
            "text/plain": [
              "   mean_fit_time  std_fit_time  mean_score_time  std_score_time param_C  \\\n",
              "0     259.804150      0.769485         0.004304        0.001330    0.25   \n",
              "1     259.382307      0.395981         0.003326        0.000183     0.5   \n",
              "2     257.214392      0.420016         0.003185        0.000152       1   \n",
              "3     257.215710      0.691126         0.003159        0.000149     1.5   \n",
              "4     236.090034     42.735619         0.003168        0.000381     2.0   \n",
              "\n",
              "        params  split0_test_score  split1_test_score  split2_test_score  \\\n",
              "0  {'C': 0.25}           0.151215           0.205221           0.186319   \n",
              "1   {'C': 0.5}           0.150315           0.205221           0.187219   \n",
              "2     {'C': 1}           0.148515           0.199820           0.184518   \n",
              "3   {'C': 1.5}           0.148515           0.199820           0.184518   \n",
              "4   {'C': 2.0}           0.148515           0.199820           0.184518   \n",
              "\n",
              "   split3_test_score  split4_test_score  mean_test_score  std_test_score  \\\n",
              "0           0.148649           0.164865         0.171254        0.021606   \n",
              "1           0.145946           0.163063         0.170353        0.022586   \n",
              "2           0.144144           0.160360         0.167472        0.021406   \n",
              "3           0.144144           0.160360         0.167472        0.021406   \n",
              "4           0.144144           0.160360         0.167472        0.021406   \n",
              "\n",
              "   rank_test_score  \n",
              "0                1  \n",
              "1                2  \n",
              "2                3  \n",
              "3                3  \n",
              "4                3  "
            ]
          },
          "execution_count": 25,
          "metadata": {},
          "output_type": "execute_result"
        }
      ],
      "source": [
        "# convert our results to a pd.DataFrame\n",
        "LR_PCA_results = pd.DataFrame(LOG_CV.cv_results_).sort_values(by=['rank_test_score'])\n",
        "LR_PCA_results.head(5)"
      ]
    },
    {
      "cell_type": "code",
      "execution_count": null,
      "metadata": {
        "colab": {
          "base_uri": "https://localhost:8080/"
        },
        "id": "K6C1xivPPS_o",
        "outputId": "ecb0bed2-24bc-4cf5-fe3a-2c9d61418269"
      },
      "outputs": [
        {
          "name": "stdout",
          "output_type": "stream",
          "text": [
            "0.19708693673190714\n"
          ]
        },
        {
          "name": "stderr",
          "output_type": "stream",
          "text": [
            "/usr/local/lib/python3.7/dist-packages/sklearn/linear_model/_sag.py:354: ConvergenceWarning: The max_iter was reached which means the coef_ did not converge\n",
            "  ConvergenceWarning,\n"
          ]
        }
      ],
      "source": [
        "best_params = LOG_CV.best_params_\n",
        "print(best_params)\n",
        "LOG_best = LogisticRegression(C=best_params['C'], solver='saga', max_iter=1000, n_jobs=-1)\n",
        "LOG_best.fit(X_amp_train_pca, y_amp_train)\n",
        "\n",
        "LOG_preds = LOG_best.predict(Xtest_amp_lowdim)\n",
        "print(np.mean(LOG_preds == y_amp_test))"
      ]
    },
    {
      "cell_type": "markdown",
      "metadata": {
        "id": "69RAhr3hyFJU"
      },
      "source": [
        "##MEL"
      ]
    },
    {
      "cell_type": "code",
      "execution_count": null,
      "metadata": {
        "colab": {
          "base_uri": "https://localhost:8080/"
        },
        "id": "Q7ZXhrsTx5vW",
        "outputId": "65213e58-93e5-4aea-f3f5-dc6a80cec7c7"
      },
      "outputs": [
        {
          "name": "stdout",
          "output_type": "stream",
          "text": [
            "Lower-Dim PCA Representation Train Data Shape: (5553, 500)\n"
          ]
        }
      ],
      "source": [
        "# create our PCA object that will calculate the first 500 components.\n",
        "pca = PCA(n_components=500)\n",
        "\n",
        "# fit our PCA to the training data, and transform our data into its 500-dimensional representation\n",
        "X_mel_train_pca = pca.fit_transform(X_mel_train_flat)\n",
        "\n",
        "# let's check the shape of our lower dim representation\n",
        "print(f\"Lower-Dim PCA Representation Train Data Shape: {X_mel_train_pca.shape}\")"
      ]
    },
    {
      "cell_type": "code",
      "execution_count": null,
      "metadata": {
        "colab": {
          "background_save": true,
          "base_uri": "https://localhost:8080/"
        },
        "id": "gzaaN9nWyJtD",
        "outputId": "788366fd-ea69-4dce-936e-66d4167fb08c"
      },
      "outputs": [
        {
          "name": "stdout",
          "output_type": "stream",
          "text": [
            "Fitting 5 folds for each of 5 candidates, totalling 25 fits\n"
          ]
        },
        {
          "name": "stderr",
          "output_type": "stream",
          "text": [
            "/usr/local/lib/python3.7/dist-packages/sklearn/linear_model/_sag.py:354: ConvergenceWarning: The max_iter was reached which means the coef_ did not converge\n",
            "  ConvergenceWarning,\n"
          ]
        },
        {
          "data": {
            "text/plain": [
              "GridSearchCV(estimator=LogisticRegression(max_iter=1000, solver='saga'),\n",
              "             n_jobs=-1, param_grid={'C': [0.25, 0.5, 1, 1.5, 2.0]}, verbose=1)"
            ]
          },
          "execution_count": null,
          "metadata": {},
          "output_type": "execute_result"
        }
      ],
      "source": [
        "# train a logistic regression on the PCA transformed training data\n",
        "lr_mel_pca = LogisticRegression(solver='saga', max_iter=1000)\n",
        "\n",
        "param_grid = {'C' : [0.25, 0.5, 1, 1.5, 2.0],}\n",
        "\n",
        "LOG_CV_mel = GridSearchCV(estimator=lr_mel_pca, param_grid=param_grid, n_jobs=-1, cv=None, verbose=1)\n",
        "\n",
        "LOG_CV_mel.fit(X_mel_train_pca, y_mel_train)"
      ]
    },
    {
      "cell_type": "code",
      "execution_count": null,
      "metadata": {
        "colab": {
          "background_save": true
        },
        "id": "NMBvwO5oP66y",
        "outputId": "ed6b5f2f-4bd0-4a72-f9cf-f65176dd2a50"
      },
      "outputs": [
        {
          "data": {
            "text/html": [
              "\n",
              "  <div id=\"df-619af636-023c-414a-a2fa-5b86dc80852d\">\n",
              "    <div class=\"colab-df-container\">\n",
              "      <div>\n",
              "<style scoped>\n",
              "    .dataframe tbody tr th:only-of-type {\n",
              "        vertical-align: middle;\n",
              "    }\n",
              "\n",
              "    .dataframe tbody tr th {\n",
              "        vertical-align: top;\n",
              "    }\n",
              "\n",
              "    .dataframe thead th {\n",
              "        text-align: right;\n",
              "    }\n",
              "</style>\n",
              "<table border=\"1\" class=\"dataframe\">\n",
              "  <thead>\n",
              "    <tr style=\"text-align: right;\">\n",
              "      <th></th>\n",
              "      <th>mean_fit_time</th>\n",
              "      <th>std_fit_time</th>\n",
              "      <th>mean_score_time</th>\n",
              "      <th>std_score_time</th>\n",
              "      <th>param_C</th>\n",
              "      <th>params</th>\n",
              "      <th>split0_test_score</th>\n",
              "      <th>split1_test_score</th>\n",
              "      <th>split2_test_score</th>\n",
              "      <th>split3_test_score</th>\n",
              "      <th>split4_test_score</th>\n",
              "      <th>mean_test_score</th>\n",
              "      <th>std_test_score</th>\n",
              "      <th>rank_test_score</th>\n",
              "    </tr>\n",
              "  </thead>\n",
              "  <tbody>\n",
              "    <tr>\n",
              "      <th>4</th>\n",
              "      <td>247.704926</td>\n",
              "      <td>25.791329</td>\n",
              "      <td>0.002786</td>\n",
              "      <td>0.000387</td>\n",
              "      <td>2.0</td>\n",
              "      <td>{'C': 2.0}</td>\n",
              "      <td>0.318632</td>\n",
              "      <td>0.306931</td>\n",
              "      <td>0.342934</td>\n",
              "      <td>0.355856</td>\n",
              "      <td>0.323423</td>\n",
              "      <td>0.329555</td>\n",
              "      <td>0.017547</td>\n",
              "      <td>1</td>\n",
              "    </tr>\n",
              "    <tr>\n",
              "      <th>2</th>\n",
              "      <td>260.936611</td>\n",
              "      <td>5.760309</td>\n",
              "      <td>0.003037</td>\n",
              "      <td>0.000167</td>\n",
              "      <td>1</td>\n",
              "      <td>{'C': 1}</td>\n",
              "      <td>0.318632</td>\n",
              "      <td>0.306031</td>\n",
              "      <td>0.342934</td>\n",
              "      <td>0.356757</td>\n",
              "      <td>0.322523</td>\n",
              "      <td>0.329375</td>\n",
              "      <td>0.018116</td>\n",
              "      <td>2</td>\n",
              "    </tr>\n",
              "    <tr>\n",
              "      <th>3</th>\n",
              "      <td>259.355205</td>\n",
              "      <td>6.105367</td>\n",
              "      <td>0.003107</td>\n",
              "      <td>0.000155</td>\n",
              "      <td>1.5</td>\n",
              "      <td>{'C': 1.5}</td>\n",
              "      <td>0.318632</td>\n",
              "      <td>0.306031</td>\n",
              "      <td>0.342934</td>\n",
              "      <td>0.355856</td>\n",
              "      <td>0.323423</td>\n",
              "      <td>0.329375</td>\n",
              "      <td>0.017781</td>\n",
              "      <td>3</td>\n",
              "    </tr>\n",
              "    <tr>\n",
              "      <th>0</th>\n",
              "      <td>259.074061</td>\n",
              "      <td>7.027587</td>\n",
              "      <td>0.003066</td>\n",
              "      <td>0.000206</td>\n",
              "      <td>0.25</td>\n",
              "      <td>{'C': 0.25}</td>\n",
              "      <td>0.318632</td>\n",
              "      <td>0.306031</td>\n",
              "      <td>0.342034</td>\n",
              "      <td>0.355856</td>\n",
              "      <td>0.323423</td>\n",
              "      <td>0.329195</td>\n",
              "      <td>0.017647</td>\n",
              "      <td>4</td>\n",
              "    </tr>\n",
              "    <tr>\n",
              "      <th>1</th>\n",
              "      <td>262.609247</td>\n",
              "      <td>7.578729</td>\n",
              "      <td>0.003082</td>\n",
              "      <td>0.000292</td>\n",
              "      <td>0.5</td>\n",
              "      <td>{'C': 0.5}</td>\n",
              "      <td>0.318632</td>\n",
              "      <td>0.306031</td>\n",
              "      <td>0.342034</td>\n",
              "      <td>0.355856</td>\n",
              "      <td>0.322523</td>\n",
              "      <td>0.329015</td>\n",
              "      <td>0.017710</td>\n",
              "      <td>5</td>\n",
              "    </tr>\n",
              "  </tbody>\n",
              "</table>\n",
              "</div>\n",
              "      <button class=\"colab-df-convert\" onclick=\"convertToInteractive('df-619af636-023c-414a-a2fa-5b86dc80852d')\"\n",
              "              title=\"Convert this dataframe to an interactive table.\"\n",
              "              style=\"display:none;\">\n",
              "        \n",
              "  <svg xmlns=\"http://www.w3.org/2000/svg\" height=\"24px\"viewBox=\"0 0 24 24\"\n",
              "       width=\"24px\">\n",
              "    <path d=\"M0 0h24v24H0V0z\" fill=\"none\"/>\n",
              "    <path d=\"M18.56 5.44l.94 2.06.94-2.06 2.06-.94-2.06-.94-.94-2.06-.94 2.06-2.06.94zm-11 1L8.5 8.5l.94-2.06 2.06-.94-2.06-.94L8.5 2.5l-.94 2.06-2.06.94zm10 10l.94 2.06.94-2.06 2.06-.94-2.06-.94-.94-2.06-.94 2.06-2.06.94z\"/><path d=\"M17.41 7.96l-1.37-1.37c-.4-.4-.92-.59-1.43-.59-.52 0-1.04.2-1.43.59L10.3 9.45l-7.72 7.72c-.78.78-.78 2.05 0 2.83L4 21.41c.39.39.9.59 1.41.59.51 0 1.02-.2 1.41-.59l7.78-7.78 2.81-2.81c.8-.78.8-2.07 0-2.86zM5.41 20L4 18.59l7.72-7.72 1.47 1.35L5.41 20z\"/>\n",
              "  </svg>\n",
              "      </button>\n",
              "      \n",
              "  <style>\n",
              "    .colab-df-container {\n",
              "      display:flex;\n",
              "      flex-wrap:wrap;\n",
              "      gap: 12px;\n",
              "    }\n",
              "\n",
              "    .colab-df-convert {\n",
              "      background-color: #E8F0FE;\n",
              "      border: none;\n",
              "      border-radius: 50%;\n",
              "      cursor: pointer;\n",
              "      display: none;\n",
              "      fill: #1967D2;\n",
              "      height: 32px;\n",
              "      padding: 0 0 0 0;\n",
              "      width: 32px;\n",
              "    }\n",
              "\n",
              "    .colab-df-convert:hover {\n",
              "      background-color: #E2EBFA;\n",
              "      box-shadow: 0px 1px 2px rgba(60, 64, 67, 0.3), 0px 1px 3px 1px rgba(60, 64, 67, 0.15);\n",
              "      fill: #174EA6;\n",
              "    }\n",
              "\n",
              "    [theme=dark] .colab-df-convert {\n",
              "      background-color: #3B4455;\n",
              "      fill: #D2E3FC;\n",
              "    }\n",
              "\n",
              "    [theme=dark] .colab-df-convert:hover {\n",
              "      background-color: #434B5C;\n",
              "      box-shadow: 0px 1px 3px 1px rgba(0, 0, 0, 0.15);\n",
              "      filter: drop-shadow(0px 1px 2px rgba(0, 0, 0, 0.3));\n",
              "      fill: #FFFFFF;\n",
              "    }\n",
              "  </style>\n",
              "\n",
              "      <script>\n",
              "        const buttonEl =\n",
              "          document.querySelector('#df-619af636-023c-414a-a2fa-5b86dc80852d button.colab-df-convert');\n",
              "        buttonEl.style.display =\n",
              "          google.colab.kernel.accessAllowed ? 'block' : 'none';\n",
              "\n",
              "        async function convertToInteractive(key) {\n",
              "          const element = document.querySelector('#df-619af636-023c-414a-a2fa-5b86dc80852d');\n",
              "          const dataTable =\n",
              "            await google.colab.kernel.invokeFunction('convertToInteractive',\n",
              "                                                     [key], {});\n",
              "          if (!dataTable) return;\n",
              "\n",
              "          const docLinkHtml = 'Like what you see? Visit the ' +\n",
              "            '<a target=\"_blank\" href=https://colab.research.google.com/notebooks/data_table.ipynb>data table notebook</a>'\n",
              "            + ' to learn more about interactive tables.';\n",
              "          element.innerHTML = '';\n",
              "          dataTable['output_type'] = 'display_data';\n",
              "          await google.colab.output.renderOutput(dataTable, element);\n",
              "          const docLink = document.createElement('div');\n",
              "          docLink.innerHTML = docLinkHtml;\n",
              "          element.appendChild(docLink);\n",
              "        }\n",
              "      </script>\n",
              "    </div>\n",
              "  </div>\n",
              "  "
            ],
            "text/plain": [
              "   mean_fit_time  std_fit_time  mean_score_time  std_score_time param_C  \\\n",
              "4     247.704926     25.791329         0.002786        0.000387     2.0   \n",
              "2     260.936611      5.760309         0.003037        0.000167       1   \n",
              "3     259.355205      6.105367         0.003107        0.000155     1.5   \n",
              "0     259.074061      7.027587         0.003066        0.000206    0.25   \n",
              "1     262.609247      7.578729         0.003082        0.000292     0.5   \n",
              "\n",
              "        params  split0_test_score  split1_test_score  split2_test_score  \\\n",
              "4   {'C': 2.0}           0.318632           0.306931           0.342934   \n",
              "2     {'C': 1}           0.318632           0.306031           0.342934   \n",
              "3   {'C': 1.5}           0.318632           0.306031           0.342934   \n",
              "0  {'C': 0.25}           0.318632           0.306031           0.342034   \n",
              "1   {'C': 0.5}           0.318632           0.306031           0.342034   \n",
              "\n",
              "   split3_test_score  split4_test_score  mean_test_score  std_test_score  \\\n",
              "4           0.355856           0.323423         0.329555        0.017547   \n",
              "2           0.356757           0.322523         0.329375        0.018116   \n",
              "3           0.355856           0.323423         0.329375        0.017781   \n",
              "0           0.355856           0.323423         0.329195        0.017647   \n",
              "1           0.355856           0.322523         0.329015        0.017710   \n",
              "\n",
              "   rank_test_score  \n",
              "4                1  \n",
              "2                2  \n",
              "3                3  \n",
              "0                4  \n",
              "1                5  "
            ]
          },
          "execution_count": null,
          "metadata": {},
          "output_type": "execute_result"
        }
      ],
      "source": [
        "# convert our results to a pd.DataFrame\n",
        "LR_PCA_mel_results = pd.DataFrame(LOG_CV_mel.cv_results_).sort_values(by=['rank_test_score'])\n",
        "LR_PCA_mel_results.head(5)"
      ]
    },
    {
      "cell_type": "code",
      "execution_count": null,
      "metadata": {
        "colab": {
          "base_uri": "https://localhost:8080/"
        },
        "id": "AgdLH5GGQGfI",
        "outputId": "8e63ac30-0711-49a0-b937-f03bb2b1bb92"
      },
      "outputs": [
        {
          "name": "stderr",
          "output_type": "stream",
          "text": [
            "[Parallel(n_jobs=-1)]: Using backend ThreadingBackend with 2 concurrent workers.\n"
          ]
        },
        {
          "name": "stdout",
          "output_type": "stream",
          "text": [
            "max_iter reached after 203 seconds\n",
            "0.09012289485662267\n"
          ]
        },
        {
          "name": "stderr",
          "output_type": "stream",
          "text": [
            "/usr/local/lib/python3.7/dist-packages/sklearn/linear_model/_sag.py:354: ConvergenceWarning: The max_iter was reached which means the coef_ did not converge\n",
            "  ConvergenceWarning,\n",
            "[Parallel(n_jobs=-1)]: Done   1 out of   1 | elapsed:  3.4min finished\n"
          ]
        }
      ],
      "source": [
        "best_params = LOG_CV_mel.best_params_\n",
        "LOG_mel_best = LogisticRegression(C=best_params['C'], solver='saga', max_iter=1000, n_jobs=-1, verbose=1)\n",
        "LOG_mel_best.fit(X_mel_train_pca, y_mel_train)\n",
        "\n",
        "LOG_mel_preds = LOG_best.predict(Xtest_mel_lowdim)\n",
        "print(np.mean(LOG_mel_preds == y_mel_test))"
      ]
    },
    {
      "cell_type": "markdown",
      "metadata": {
        "id": "uITHHcigTlvx"
      },
      "source": [
        "#Hyperparameters: Random Forest"
      ]
    },
    {
      "cell_type": "markdown",
      "metadata": {
        "id": "NmMqfTYXTdBt"
      },
      "source": [
        "##AMP"
      ]
    },
    {
      "cell_type": "code",
      "execution_count": null,
      "metadata": {
        "colab": {
          "base_uri": "https://localhost:8080/"
        },
        "id": "o43h5TQzRKFg",
        "outputId": "ccda9f4e-6226-4258-d2f6-d5095b3b10e1"
      },
      "outputs": [
        {
          "metadata": {
            "tags": null
          },
          "name": "stdout",
          "output_type": "stream",
          "text": [
            "Fitting 5 folds for each of 25 candidates, totalling 125 fits\n"
          ]
        },
        {
          "output_type": "execute_result",
          "data": {
            "text/plain": [
              "GridSearchCV(estimator=RandomForestClassifier(), n_jobs=-1,\n",
              "             param_grid={'max_depth': [4, 8, 16, 32, None],\n",
              "                         'n_estimators': [10, 50, 100, 250, 500]},\n",
              "             verbose=1)"
            ]
          },
          "metadata": {},
          "execution_count": 22
        }
      ],
      "source": [
        "# Cross Validation for AMP\n",
        "from sklearn.model_selection import GridSearchCV\n",
        "from sklearn.ensemble import RandomForestClassifier\n",
        "\n",
        "# these are the settings that we will tune\n",
        "param_grid = {'n_estimators' : [10, 50, 100, 250, 500], \n",
        "              'max_depth' : [4, 8, 16, 32, None],}\n",
        "\n",
        "RF = RandomForestClassifier()\n",
        "RF_CV_amp = GridSearchCV(estimator=RF, param_grid=param_grid, n_jobs=-1, cv=None, verbose=1)\n",
        "RF_CV_amp.fit(X_amp_train.reshape(X_amp_train.shape[0], -1), y_amp_train)"
      ]
    },
    {
      "cell_type": "code",
      "execution_count": null,
      "metadata": {
        "id": "MdzOd2afRKHg",
        "colab": {
          "base_uri": "https://localhost:8080/",
          "height": 531
        },
        "outputId": "2b518556-9db7-4c6a-dd7e-b18733fba442"
      },
      "outputs": [
        {
          "output_type": "execute_result",
          "data": {
            "text/plain": [
              "    mean_fit_time  std_fit_time  mean_score_time  std_score_time  \\\n",
              "19     679.455931      3.160995         0.693880        0.090353   \n",
              "9      445.184086      0.810224         0.425143        0.037464   \n",
              "14     670.857227      4.870969         0.664580        0.091089   \n",
              "24     658.552652     54.363946         0.651243        0.055305   \n",
              "18     339.023689      3.302985         0.392304        0.027124   \n",
              "\n",
              "   param_max_depth param_n_estimators  \\\n",
              "19              32                500   \n",
              "9                8                500   \n",
              "14              16                500   \n",
              "24            None                500   \n",
              "18              32                250   \n",
              "\n",
              "                                      params  split0_test_score  \\\n",
              "19    {'max_depth': 32, 'n_estimators': 500}           0.239424   \n",
              "9      {'max_depth': 8, 'n_estimators': 500}           0.242124   \n",
              "14    {'max_depth': 16, 'n_estimators': 500}           0.243924   \n",
              "24  {'max_depth': None, 'n_estimators': 500}           0.248425   \n",
              "18    {'max_depth': 32, 'n_estimators': 250}           0.223222   \n",
              "\n",
              "    split1_test_score  split2_test_score  split3_test_score  \\\n",
              "19           0.284428           0.236724           0.197297   \n",
              "9            0.286229           0.234023           0.198198   \n",
              "14           0.271827           0.238524           0.202703   \n",
              "24           0.294329           0.217822           0.194595   \n",
              "18           0.266427           0.239424           0.181982   \n",
              "\n",
              "    split4_test_score  mean_test_score  std_test_score  rank_test_score  \n",
              "19           0.241441         0.239863        0.027606                1  \n",
              "9            0.238739         0.239863        0.028022                2  \n",
              "14           0.239640         0.239324        0.021998                3  \n",
              "24           0.237838         0.238602        0.033380                4  \n",
              "18           0.246847         0.231580        0.028421                5  "
            ],
            "text/html": [
              "\n",
              "  <div id=\"df-f51638ae-767e-4d52-9006-962fd9ea247e\">\n",
              "    <div class=\"colab-df-container\">\n",
              "      <div>\n",
              "<style scoped>\n",
              "    .dataframe tbody tr th:only-of-type {\n",
              "        vertical-align: middle;\n",
              "    }\n",
              "\n",
              "    .dataframe tbody tr th {\n",
              "        vertical-align: top;\n",
              "    }\n",
              "\n",
              "    .dataframe thead th {\n",
              "        text-align: right;\n",
              "    }\n",
              "</style>\n",
              "<table border=\"1\" class=\"dataframe\">\n",
              "  <thead>\n",
              "    <tr style=\"text-align: right;\">\n",
              "      <th></th>\n",
              "      <th>mean_fit_time</th>\n",
              "      <th>std_fit_time</th>\n",
              "      <th>mean_score_time</th>\n",
              "      <th>std_score_time</th>\n",
              "      <th>param_max_depth</th>\n",
              "      <th>param_n_estimators</th>\n",
              "      <th>params</th>\n",
              "      <th>split0_test_score</th>\n",
              "      <th>split1_test_score</th>\n",
              "      <th>split2_test_score</th>\n",
              "      <th>split3_test_score</th>\n",
              "      <th>split4_test_score</th>\n",
              "      <th>mean_test_score</th>\n",
              "      <th>std_test_score</th>\n",
              "      <th>rank_test_score</th>\n",
              "    </tr>\n",
              "  </thead>\n",
              "  <tbody>\n",
              "    <tr>\n",
              "      <th>19</th>\n",
              "      <td>679.455931</td>\n",
              "      <td>3.160995</td>\n",
              "      <td>0.693880</td>\n",
              "      <td>0.090353</td>\n",
              "      <td>32</td>\n",
              "      <td>500</td>\n",
              "      <td>{'max_depth': 32, 'n_estimators': 500}</td>\n",
              "      <td>0.239424</td>\n",
              "      <td>0.284428</td>\n",
              "      <td>0.236724</td>\n",
              "      <td>0.197297</td>\n",
              "      <td>0.241441</td>\n",
              "      <td>0.239863</td>\n",
              "      <td>0.027606</td>\n",
              "      <td>1</td>\n",
              "    </tr>\n",
              "    <tr>\n",
              "      <th>9</th>\n",
              "      <td>445.184086</td>\n",
              "      <td>0.810224</td>\n",
              "      <td>0.425143</td>\n",
              "      <td>0.037464</td>\n",
              "      <td>8</td>\n",
              "      <td>500</td>\n",
              "      <td>{'max_depth': 8, 'n_estimators': 500}</td>\n",
              "      <td>0.242124</td>\n",
              "      <td>0.286229</td>\n",
              "      <td>0.234023</td>\n",
              "      <td>0.198198</td>\n",
              "      <td>0.238739</td>\n",
              "      <td>0.239863</td>\n",
              "      <td>0.028022</td>\n",
              "      <td>2</td>\n",
              "    </tr>\n",
              "    <tr>\n",
              "      <th>14</th>\n",
              "      <td>670.857227</td>\n",
              "      <td>4.870969</td>\n",
              "      <td>0.664580</td>\n",
              "      <td>0.091089</td>\n",
              "      <td>16</td>\n",
              "      <td>500</td>\n",
              "      <td>{'max_depth': 16, 'n_estimators': 500}</td>\n",
              "      <td>0.243924</td>\n",
              "      <td>0.271827</td>\n",
              "      <td>0.238524</td>\n",
              "      <td>0.202703</td>\n",
              "      <td>0.239640</td>\n",
              "      <td>0.239324</td>\n",
              "      <td>0.021998</td>\n",
              "      <td>3</td>\n",
              "    </tr>\n",
              "    <tr>\n",
              "      <th>24</th>\n",
              "      <td>658.552652</td>\n",
              "      <td>54.363946</td>\n",
              "      <td>0.651243</td>\n",
              "      <td>0.055305</td>\n",
              "      <td>None</td>\n",
              "      <td>500</td>\n",
              "      <td>{'max_depth': None, 'n_estimators': 500}</td>\n",
              "      <td>0.248425</td>\n",
              "      <td>0.294329</td>\n",
              "      <td>0.217822</td>\n",
              "      <td>0.194595</td>\n",
              "      <td>0.237838</td>\n",
              "      <td>0.238602</td>\n",
              "      <td>0.033380</td>\n",
              "      <td>4</td>\n",
              "    </tr>\n",
              "    <tr>\n",
              "      <th>18</th>\n",
              "      <td>339.023689</td>\n",
              "      <td>3.302985</td>\n",
              "      <td>0.392304</td>\n",
              "      <td>0.027124</td>\n",
              "      <td>32</td>\n",
              "      <td>250</td>\n",
              "      <td>{'max_depth': 32, 'n_estimators': 250}</td>\n",
              "      <td>0.223222</td>\n",
              "      <td>0.266427</td>\n",
              "      <td>0.239424</td>\n",
              "      <td>0.181982</td>\n",
              "      <td>0.246847</td>\n",
              "      <td>0.231580</td>\n",
              "      <td>0.028421</td>\n",
              "      <td>5</td>\n",
              "    </tr>\n",
              "  </tbody>\n",
              "</table>\n",
              "</div>\n",
              "      <button class=\"colab-df-convert\" onclick=\"convertToInteractive('df-f51638ae-767e-4d52-9006-962fd9ea247e')\"\n",
              "              title=\"Convert this dataframe to an interactive table.\"\n",
              "              style=\"display:none;\">\n",
              "        \n",
              "  <svg xmlns=\"http://www.w3.org/2000/svg\" height=\"24px\"viewBox=\"0 0 24 24\"\n",
              "       width=\"24px\">\n",
              "    <path d=\"M0 0h24v24H0V0z\" fill=\"none\"/>\n",
              "    <path d=\"M18.56 5.44l.94 2.06.94-2.06 2.06-.94-2.06-.94-.94-2.06-.94 2.06-2.06.94zm-11 1L8.5 8.5l.94-2.06 2.06-.94-2.06-.94L8.5 2.5l-.94 2.06-2.06.94zm10 10l.94 2.06.94-2.06 2.06-.94-2.06-.94-.94-2.06-.94 2.06-2.06.94z\"/><path d=\"M17.41 7.96l-1.37-1.37c-.4-.4-.92-.59-1.43-.59-.52 0-1.04.2-1.43.59L10.3 9.45l-7.72 7.72c-.78.78-.78 2.05 0 2.83L4 21.41c.39.39.9.59 1.41.59.51 0 1.02-.2 1.41-.59l7.78-7.78 2.81-2.81c.8-.78.8-2.07 0-2.86zM5.41 20L4 18.59l7.72-7.72 1.47 1.35L5.41 20z\"/>\n",
              "  </svg>\n",
              "      </button>\n",
              "      \n",
              "  <style>\n",
              "    .colab-df-container {\n",
              "      display:flex;\n",
              "      flex-wrap:wrap;\n",
              "      gap: 12px;\n",
              "    }\n",
              "\n",
              "    .colab-df-convert {\n",
              "      background-color: #E8F0FE;\n",
              "      border: none;\n",
              "      border-radius: 50%;\n",
              "      cursor: pointer;\n",
              "      display: none;\n",
              "      fill: #1967D2;\n",
              "      height: 32px;\n",
              "      padding: 0 0 0 0;\n",
              "      width: 32px;\n",
              "    }\n",
              "\n",
              "    .colab-df-convert:hover {\n",
              "      background-color: #E2EBFA;\n",
              "      box-shadow: 0px 1px 2px rgba(60, 64, 67, 0.3), 0px 1px 3px 1px rgba(60, 64, 67, 0.15);\n",
              "      fill: #174EA6;\n",
              "    }\n",
              "\n",
              "    [theme=dark] .colab-df-convert {\n",
              "      background-color: #3B4455;\n",
              "      fill: #D2E3FC;\n",
              "    }\n",
              "\n",
              "    [theme=dark] .colab-df-convert:hover {\n",
              "      background-color: #434B5C;\n",
              "      box-shadow: 0px 1px 3px 1px rgba(0, 0, 0, 0.15);\n",
              "      filter: drop-shadow(0px 1px 2px rgba(0, 0, 0, 0.3));\n",
              "      fill: #FFFFFF;\n",
              "    }\n",
              "  </style>\n",
              "\n",
              "      <script>\n",
              "        const buttonEl =\n",
              "          document.querySelector('#df-f51638ae-767e-4d52-9006-962fd9ea247e button.colab-df-convert');\n",
              "        buttonEl.style.display =\n",
              "          google.colab.kernel.accessAllowed ? 'block' : 'none';\n",
              "\n",
              "        async function convertToInteractive(key) {\n",
              "          const element = document.querySelector('#df-f51638ae-767e-4d52-9006-962fd9ea247e');\n",
              "          const dataTable =\n",
              "            await google.colab.kernel.invokeFunction('convertToInteractive',\n",
              "                                                     [key], {});\n",
              "          if (!dataTable) return;\n",
              "\n",
              "          const docLinkHtml = 'Like what you see? Visit the ' +\n",
              "            '<a target=\"_blank\" href=https://colab.research.google.com/notebooks/data_table.ipynb>data table notebook</a>'\n",
              "            + ' to learn more about interactive tables.';\n",
              "          element.innerHTML = '';\n",
              "          dataTable['output_type'] = 'display_data';\n",
              "          await google.colab.output.renderOutput(dataTable, element);\n",
              "          const docLink = document.createElement('div');\n",
              "          docLink.innerHTML = docLinkHtml;\n",
              "          element.appendChild(docLink);\n",
              "        }\n",
              "      </script>\n",
              "    </div>\n",
              "  </div>\n",
              "  "
            ]
          },
          "metadata": {},
          "execution_count": 23
        }
      ],
      "source": [
        "# convert our results to a pd.DataFrame\n",
        "RF_results_amp = pd.DataFrame(RF_CV_amp.cv_results_).sort_values(by=['rank_test_score'])\n",
        "RF_results_amp.head(5)"
      ]
    },
    {
      "cell_type": "code",
      "source": [
        "print(RF_CV_amp.best_params_)"
      ],
      "metadata": {
        "colab": {
          "base_uri": "https://localhost:8080/"
        },
        "id": "vy163W5JfHxn",
        "outputId": "041af223-4dcb-4b4a-91a9-23c0ad2c2ca8"
      },
      "execution_count": null,
      "outputs": [
        {
          "output_type": "stream",
          "name": "stdout",
          "text": [
            "{'max_depth': 32, 'n_estimators': 500}\n"
          ]
        }
      ]
    },
    {
      "cell_type": "code",
      "execution_count": null,
      "metadata": {
        "id": "qe4xxj2jRpyZ",
        "colab": {
          "base_uri": "https://localhost:8080/"
        },
        "outputId": "fea7954a-c759-40f2-e40b-9ddf4d64fab4"
      },
      "outputs": [
        {
          "output_type": "stream",
          "name": "stdout",
          "text": [
            "0.27901684114701863\n"
          ]
        }
      ],
      "source": [
        "best_params_RF_amp = {'max_depth': 32, 'n_estimators': 500} #RF_CV_amp.best_params_\n",
        "RF_best_amp = RandomForestClassifier(n_estimators=best_params_RF_amp['n_estimators'], max_depth=best_params_RF_amp['max_depth'], n_jobs=-1)\n",
        "RF_best_amp.fit(X_amp_train.reshape(X_amp_train.shape[0], -1), y_amp_train)\n",
        "\n",
        "\n",
        "# make our predictions\n",
        "rf_preds_amp = RF_best_amp.predict(X_amp_test.reshape(X_amp_test.shape[0], -1))\n",
        "print(np.mean(rf_preds_amp == y_amp_test))"
      ]
    },
    {
      "cell_type": "markdown",
      "metadata": {
        "id": "Wo6UdjFOTslt"
      },
      "source": [
        "##MEL"
      ]
    },
    {
      "cell_type": "code",
      "execution_count": null,
      "metadata": {
        "id": "XWIvz9JHvBeA",
        "colab": {
          "base_uri": "https://localhost:8080/"
        },
        "outputId": "4495312f-db5a-4c73-fb9a-71330de1055c"
      },
      "outputs": [
        {
          "output_type": "stream",
          "name": "stdout",
          "text": [
            "Fitting 5 folds for each of 25 candidates, totalling 125 fits\n"
          ]
        },
        {
          "output_type": "stream",
          "name": "stderr",
          "text": [
            "/usr/local/lib/python3.7/dist-packages/joblib/externals/loky/process_executor.py:705: UserWarning: A worker stopped while some jobs were given to the executor. This can be caused by a too short worker timeout or by a memory leak.\n",
            "  \"timeout or by a memory leak.\", UserWarning\n"
          ]
        },
        {
          "output_type": "execute_result",
          "data": {
            "text/plain": [
              "GridSearchCV(estimator=RandomForestClassifier(), n_jobs=-1,\n",
              "             param_grid={'max_depth': [4, 8, 16, 32, None],\n",
              "                         'n_estimators': [10, 50, 100, 250, 500]},\n",
              "             verbose=1)"
            ]
          },
          "metadata": {},
          "execution_count": 18
        }
      ],
      "source": [
        "# Cross Validation for MEL\n",
        "from sklearn.model_selection import GridSearchCV\n",
        "from sklearn.ensemble import RandomForestClassifier\n",
        "\n",
        "# these are the settings that we will tune\n",
        "param_grid = {'n_estimators' : [10, 50, 100, 250, 500], \n",
        "              'max_depth' : [4, 8, 16, 32, None],}\n",
        "\n",
        "RF = RandomForestClassifier()\n",
        "RF_CV = GridSearchCV(estimator=RF, param_grid=param_grid, n_jobs=-1, cv=None, verbose=1)\n",
        "RF_CV.fit(X_mel_train_flat.reshape(X_mel_train_flat.shape[0], -1), y_mel_train)\n"
      ]
    },
    {
      "cell_type": "code",
      "execution_count": null,
      "metadata": {
        "id": "0pSTC6BfzGJz",
        "colab": {
          "base_uri": "https://localhost:8080/",
          "height": 531
        },
        "outputId": "da143e6c-d62e-4dab-bd4a-4fe728f3a8b0"
      },
      "outputs": [
        {
          "output_type": "execute_result",
          "data": {
            "text/plain": [
              "    mean_fit_time  std_fit_time  mean_score_time  std_score_time  \\\n",
              "19     292.675734      2.517874         0.506726        0.046267   \n",
              "24     284.839629     22.938680         0.514858        0.050433   \n",
              "23     146.730288      1.200457         0.259215        0.030873   \n",
              "18     147.547656      1.892503         0.275835        0.028589   \n",
              "14     287.941722      2.307194         0.512631        0.037585   \n",
              "\n",
              "   param_max_depth param_n_estimators  \\\n",
              "19              32                500   \n",
              "24            None                500   \n",
              "23            None                250   \n",
              "18              32                250   \n",
              "14              16                500   \n",
              "\n",
              "                                      params  split0_test_score  \\\n",
              "19    {'max_depth': 32, 'n_estimators': 500}           0.501350   \n",
              "24  {'max_depth': None, 'n_estimators': 500}           0.486049   \n",
              "23  {'max_depth': None, 'n_estimators': 250}           0.482448   \n",
              "18    {'max_depth': 32, 'n_estimators': 250}           0.497750   \n",
              "14    {'max_depth': 16, 'n_estimators': 500}           0.492349   \n",
              "\n",
              "    split1_test_score  split2_test_score  split3_test_score  \\\n",
              "19           0.617462           0.558956           0.560360   \n",
              "24           0.617462           0.566157           0.554955   \n",
              "23           0.613861           0.568857           0.557658   \n",
              "18           0.604860           0.570657           0.556757   \n",
              "14           0.603060           0.557156           0.552252   \n",
              "\n",
              "    split4_test_score  mean_test_score  std_test_score  rank_test_score  \n",
              "19           0.510811         0.549788        0.041572                1  \n",
              "24           0.510811         0.547087        0.045650                2  \n",
              "23           0.501802         0.544925        0.047434                3  \n",
              "18           0.494595         0.544924        0.042786                4  \n",
              "14           0.502703         0.541504        0.040178                5  "
            ],
            "text/html": [
              "\n",
              "  <div id=\"df-022678c9-2ad3-4a5c-aae7-e1e860f1e1ad\">\n",
              "    <div class=\"colab-df-container\">\n",
              "      <div>\n",
              "<style scoped>\n",
              "    .dataframe tbody tr th:only-of-type {\n",
              "        vertical-align: middle;\n",
              "    }\n",
              "\n",
              "    .dataframe tbody tr th {\n",
              "        vertical-align: top;\n",
              "    }\n",
              "\n",
              "    .dataframe thead th {\n",
              "        text-align: right;\n",
              "    }\n",
              "</style>\n",
              "<table border=\"1\" class=\"dataframe\">\n",
              "  <thead>\n",
              "    <tr style=\"text-align: right;\">\n",
              "      <th></th>\n",
              "      <th>mean_fit_time</th>\n",
              "      <th>std_fit_time</th>\n",
              "      <th>mean_score_time</th>\n",
              "      <th>std_score_time</th>\n",
              "      <th>param_max_depth</th>\n",
              "      <th>param_n_estimators</th>\n",
              "      <th>params</th>\n",
              "      <th>split0_test_score</th>\n",
              "      <th>split1_test_score</th>\n",
              "      <th>split2_test_score</th>\n",
              "      <th>split3_test_score</th>\n",
              "      <th>split4_test_score</th>\n",
              "      <th>mean_test_score</th>\n",
              "      <th>std_test_score</th>\n",
              "      <th>rank_test_score</th>\n",
              "    </tr>\n",
              "  </thead>\n",
              "  <tbody>\n",
              "    <tr>\n",
              "      <th>19</th>\n",
              "      <td>292.675734</td>\n",
              "      <td>2.517874</td>\n",
              "      <td>0.506726</td>\n",
              "      <td>0.046267</td>\n",
              "      <td>32</td>\n",
              "      <td>500</td>\n",
              "      <td>{'max_depth': 32, 'n_estimators': 500}</td>\n",
              "      <td>0.501350</td>\n",
              "      <td>0.617462</td>\n",
              "      <td>0.558956</td>\n",
              "      <td>0.560360</td>\n",
              "      <td>0.510811</td>\n",
              "      <td>0.549788</td>\n",
              "      <td>0.041572</td>\n",
              "      <td>1</td>\n",
              "    </tr>\n",
              "    <tr>\n",
              "      <th>24</th>\n",
              "      <td>284.839629</td>\n",
              "      <td>22.938680</td>\n",
              "      <td>0.514858</td>\n",
              "      <td>0.050433</td>\n",
              "      <td>None</td>\n",
              "      <td>500</td>\n",
              "      <td>{'max_depth': None, 'n_estimators': 500}</td>\n",
              "      <td>0.486049</td>\n",
              "      <td>0.617462</td>\n",
              "      <td>0.566157</td>\n",
              "      <td>0.554955</td>\n",
              "      <td>0.510811</td>\n",
              "      <td>0.547087</td>\n",
              "      <td>0.045650</td>\n",
              "      <td>2</td>\n",
              "    </tr>\n",
              "    <tr>\n",
              "      <th>23</th>\n",
              "      <td>146.730288</td>\n",
              "      <td>1.200457</td>\n",
              "      <td>0.259215</td>\n",
              "      <td>0.030873</td>\n",
              "      <td>None</td>\n",
              "      <td>250</td>\n",
              "      <td>{'max_depth': None, 'n_estimators': 250}</td>\n",
              "      <td>0.482448</td>\n",
              "      <td>0.613861</td>\n",
              "      <td>0.568857</td>\n",
              "      <td>0.557658</td>\n",
              "      <td>0.501802</td>\n",
              "      <td>0.544925</td>\n",
              "      <td>0.047434</td>\n",
              "      <td>3</td>\n",
              "    </tr>\n",
              "    <tr>\n",
              "      <th>18</th>\n",
              "      <td>147.547656</td>\n",
              "      <td>1.892503</td>\n",
              "      <td>0.275835</td>\n",
              "      <td>0.028589</td>\n",
              "      <td>32</td>\n",
              "      <td>250</td>\n",
              "      <td>{'max_depth': 32, 'n_estimators': 250}</td>\n",
              "      <td>0.497750</td>\n",
              "      <td>0.604860</td>\n",
              "      <td>0.570657</td>\n",
              "      <td>0.556757</td>\n",
              "      <td>0.494595</td>\n",
              "      <td>0.544924</td>\n",
              "      <td>0.042786</td>\n",
              "      <td>4</td>\n",
              "    </tr>\n",
              "    <tr>\n",
              "      <th>14</th>\n",
              "      <td>287.941722</td>\n",
              "      <td>2.307194</td>\n",
              "      <td>0.512631</td>\n",
              "      <td>0.037585</td>\n",
              "      <td>16</td>\n",
              "      <td>500</td>\n",
              "      <td>{'max_depth': 16, 'n_estimators': 500}</td>\n",
              "      <td>0.492349</td>\n",
              "      <td>0.603060</td>\n",
              "      <td>0.557156</td>\n",
              "      <td>0.552252</td>\n",
              "      <td>0.502703</td>\n",
              "      <td>0.541504</td>\n",
              "      <td>0.040178</td>\n",
              "      <td>5</td>\n",
              "    </tr>\n",
              "  </tbody>\n",
              "</table>\n",
              "</div>\n",
              "      <button class=\"colab-df-convert\" onclick=\"convertToInteractive('df-022678c9-2ad3-4a5c-aae7-e1e860f1e1ad')\"\n",
              "              title=\"Convert this dataframe to an interactive table.\"\n",
              "              style=\"display:none;\">\n",
              "        \n",
              "  <svg xmlns=\"http://www.w3.org/2000/svg\" height=\"24px\"viewBox=\"0 0 24 24\"\n",
              "       width=\"24px\">\n",
              "    <path d=\"M0 0h24v24H0V0z\" fill=\"none\"/>\n",
              "    <path d=\"M18.56 5.44l.94 2.06.94-2.06 2.06-.94-2.06-.94-.94-2.06-.94 2.06-2.06.94zm-11 1L8.5 8.5l.94-2.06 2.06-.94-2.06-.94L8.5 2.5l-.94 2.06-2.06.94zm10 10l.94 2.06.94-2.06 2.06-.94-2.06-.94-.94-2.06-.94 2.06-2.06.94z\"/><path d=\"M17.41 7.96l-1.37-1.37c-.4-.4-.92-.59-1.43-.59-.52 0-1.04.2-1.43.59L10.3 9.45l-7.72 7.72c-.78.78-.78 2.05 0 2.83L4 21.41c.39.39.9.59 1.41.59.51 0 1.02-.2 1.41-.59l7.78-7.78 2.81-2.81c.8-.78.8-2.07 0-2.86zM5.41 20L4 18.59l7.72-7.72 1.47 1.35L5.41 20z\"/>\n",
              "  </svg>\n",
              "      </button>\n",
              "      \n",
              "  <style>\n",
              "    .colab-df-container {\n",
              "      display:flex;\n",
              "      flex-wrap:wrap;\n",
              "      gap: 12px;\n",
              "    }\n",
              "\n",
              "    .colab-df-convert {\n",
              "      background-color: #E8F0FE;\n",
              "      border: none;\n",
              "      border-radius: 50%;\n",
              "      cursor: pointer;\n",
              "      display: none;\n",
              "      fill: #1967D2;\n",
              "      height: 32px;\n",
              "      padding: 0 0 0 0;\n",
              "      width: 32px;\n",
              "    }\n",
              "\n",
              "    .colab-df-convert:hover {\n",
              "      background-color: #E2EBFA;\n",
              "      box-shadow: 0px 1px 2px rgba(60, 64, 67, 0.3), 0px 1px 3px 1px rgba(60, 64, 67, 0.15);\n",
              "      fill: #174EA6;\n",
              "    }\n",
              "\n",
              "    [theme=dark] .colab-df-convert {\n",
              "      background-color: #3B4455;\n",
              "      fill: #D2E3FC;\n",
              "    }\n",
              "\n",
              "    [theme=dark] .colab-df-convert:hover {\n",
              "      background-color: #434B5C;\n",
              "      box-shadow: 0px 1px 3px 1px rgba(0, 0, 0, 0.15);\n",
              "      filter: drop-shadow(0px 1px 2px rgba(0, 0, 0, 0.3));\n",
              "      fill: #FFFFFF;\n",
              "    }\n",
              "  </style>\n",
              "\n",
              "      <script>\n",
              "        const buttonEl =\n",
              "          document.querySelector('#df-022678c9-2ad3-4a5c-aae7-e1e860f1e1ad button.colab-df-convert');\n",
              "        buttonEl.style.display =\n",
              "          google.colab.kernel.accessAllowed ? 'block' : 'none';\n",
              "\n",
              "        async function convertToInteractive(key) {\n",
              "          const element = document.querySelector('#df-022678c9-2ad3-4a5c-aae7-e1e860f1e1ad');\n",
              "          const dataTable =\n",
              "            await google.colab.kernel.invokeFunction('convertToInteractive',\n",
              "                                                     [key], {});\n",
              "          if (!dataTable) return;\n",
              "\n",
              "          const docLinkHtml = 'Like what you see? Visit the ' +\n",
              "            '<a target=\"_blank\" href=https://colab.research.google.com/notebooks/data_table.ipynb>data table notebook</a>'\n",
              "            + ' to learn more about interactive tables.';\n",
              "          element.innerHTML = '';\n",
              "          dataTable['output_type'] = 'display_data';\n",
              "          await google.colab.output.renderOutput(dataTable, element);\n",
              "          const docLink = document.createElement('div');\n",
              "          docLink.innerHTML = docLinkHtml;\n",
              "          element.appendChild(docLink);\n",
              "        }\n",
              "      </script>\n",
              "    </div>\n",
              "  </div>\n",
              "  "
            ]
          },
          "metadata": {},
          "execution_count": 19
        }
      ],
      "source": [
        "# convert our results to a pd.DataFrame\n",
        "RF_results = pd.DataFrame(RF_CV.cv_results_).sort_values(by=['rank_test_score'])\n",
        "RF_results.head(5)\n"
      ]
    },
    {
      "cell_type": "code",
      "execution_count": null,
      "metadata": {
        "id": "Hs-MLXt5zSL-",
        "colab": {
          "base_uri": "https://localhost:8080/"
        },
        "outputId": "3f7f62cf-407d-405c-e524-63cf4ea1b967"
      },
      "outputs": [
        {
          "output_type": "stream",
          "name": "stdout",
          "text": [
            "{'max_depth': 32, 'n_estimators': 500}\n"
          ]
        }
      ],
      "source": [
        "print(RF_CV.best_params_)"
      ]
    },
    {
      "cell_type": "code",
      "execution_count": null,
      "metadata": {
        "id": "aKAjLUhVzWHK",
        "colab": {
          "base_uri": "https://localhost:8080/"
        },
        "outputId": "d682cfdc-a119-4f8d-b0cd-d1dcc524f7fa"
      },
      "outputs": [
        {
          "output_type": "stream",
          "name": "stdout",
          "text": [
            "0.48930359581247157\n"
          ]
        }
      ],
      "source": [
        "best_params = RF_CV.best_params_\n",
        "RF_best = RandomForestClassifier(n_estimators=best_params['n_estimators'], max_depth=best_params['max_depth'], n_jobs=-1)\n",
        "RF_best.fit(X_mel_train_flat.reshape(X_mel_train_flat.shape[0], -1), y_mel_train)\n",
        "\n",
        "\n",
        "# make our predictions\n",
        "rf_preds = RF_best.predict(X_mel_test_flat.reshape(X_mel_test_flat.shape[0], -1))\n",
        "print(np.mean(rf_preds == y_mel_test))"
      ]
    },
    {
      "cell_type": "markdown",
      "metadata": {
        "id": "vACxL9jLLEdv"
      },
      "source": [
        "# Part 3 (OPTIONAL EXTRA): PCA & Random Forest"
      ]
    },
    {
      "cell_type": "code",
      "source": [
        "from sklearn.decomposition import PCA\n",
        "from sklearn.linear_model import LogisticRegression"
      ],
      "metadata": {
        "id": "qAOZFvdZLXww"
      },
      "execution_count": 20,
      "outputs": []
    },
    {
      "cell_type": "markdown",
      "metadata": {
        "id": "mQ687t79LEdv"
      },
      "source": [
        "##AMP"
      ]
    },
    {
      "cell_type": "code",
      "source": [
        "# create our PCA object that will calculate the first 500 components.\n",
        "pca = PCA(n_components=250)\n",
        "\n",
        "# fit our PCA to the training data, and transform our data into its 500-dimensional representation\n",
        "X_amp_train_pca = pca.fit_transform(X_amp_train)\n",
        "\n",
        "# fit our PCA to shape of our lower dim representation\n",
        "print(f\"Lower-Dim PCA Representation Train Data Shape: {X_amp_train_pca.shape}\")"
      ],
      "metadata": {
        "colab": {
          "base_uri": "https://localhost:8080/"
        },
        "id": "Ou_DOX16LfiF",
        "outputId": "da17f0b7-0237-489c-cf3b-f14d91f209cd"
      },
      "execution_count": 24,
      "outputs": [
        {
          "output_type": "stream",
          "name": "stdout",
          "text": [
            "Lower-Dim PCA Representation Train Data Shape: (5553, 250)\n"
          ]
        }
      ]
    },
    {
      "cell_type": "code",
      "execution_count": 25,
      "metadata": {
        "colab": {
          "base_uri": "https://localhost:8080/"
        },
        "outputId": "4763fdd0-024d-42c4-dd5b-c6d614ac829c",
        "id": "d1CAWHqALEdw"
      },
      "outputs": [
        {
          "output_type": "stream",
          "name": "stdout",
          "text": [
            "0.28311333636777425\n"
          ]
        }
      ],
      "source": [
        "from sklearn.ensemble import RandomForestClassifier\n",
        "\n",
        "# RandomForest\n",
        "model = RandomForestClassifier(n_estimators=500, max_depth=32, n_jobs=-1)\n",
        "model.fit(X_amp_train_pca.reshape(X_amp_train_pca.shape[0], -1), y_amp_train)\n",
        "\n",
        "# transform our testing data (DO NOT FIT AGAIN!)\n",
        "Xtest_amp_lowdim = pca.transform(X_amp_test)\n",
        "\n",
        "# make our predictions\n",
        "rf_preds = model.predict(Xtest_amp_lowdim.reshape(Xtest_amp_lowdim.shape[0], -1))\n",
        "print(np.mean(rf_preds == y_amp_test))"
      ]
    },
    {
      "cell_type": "code",
      "source": [
        "# Training Accuracy\n",
        "# make our test predictions\n",
        "rf_preds_amp_train = model.predict(X_amp_train_pca.reshape(X_amp_train_pca.shape[0], -1))\n",
        "\n",
        "# check our accuracy\n",
        "print(f\"Accuracy: {np.mean(rf_preds_amp_train == y_amp_train)}\")"
      ],
      "metadata": {
        "colab": {
          "base_uri": "https://localhost:8080/"
        },
        "outputId": "75e5b239-e0f7-43ed-d490-d65ee9d24ea6",
        "id": "H8CSZJYhLEdw"
      },
      "execution_count": null,
      "outputs": [
        {
          "output_type": "stream",
          "name": "stdout",
          "text": [
            "Accuracy: 1.0\n"
          ]
        }
      ]
    },
    {
      "cell_type": "code",
      "source": [
        "# generate our classification report: precision, recall, f1, etc.\n",
        "print(classification_report(y_amp_test, rf_preds))"
      ],
      "metadata": {
        "colab": {
          "base_uri": "https://localhost:8080/"
        },
        "outputId": "6e68187b-9e6d-4f5b-8633-9a11f1c3d8d6",
        "id": "Vc1UeL4_LEdw"
      },
      "execution_count": null,
      "outputs": [
        {
          "output_type": "stream",
          "name": "stdout",
          "text": [
            "              precision    recall  f1-score   support\n",
            "\n",
            "           0       0.14      0.02      0.04       300\n",
            "           1       0.00      0.00      0.00        39\n",
            "           2       0.29      0.70      0.41       299\n",
            "           3       0.38      0.29      0.33       229\n",
            "           4       0.30      0.22      0.26       264\n",
            "           5       0.37      0.46      0.41       264\n",
            "           6       0.00      0.00      0.00        30\n",
            "           7       0.19      0.39      0.26       236\n",
            "           8       0.25      0.03      0.05       236\n",
            "           9       0.20      0.14      0.17       300\n",
            "\n",
            "    accuracy                           0.27      2197\n",
            "   macro avg       0.21      0.23      0.19      2197\n",
            "weighted avg       0.25      0.27      0.23      2197\n",
            "\n"
          ]
        },
        {
          "output_type": "stream",
          "name": "stderr",
          "text": [
            "/usr/local/lib/python3.7/dist-packages/sklearn/metrics/_classification.py:1318: UndefinedMetricWarning: Precision and F-score are ill-defined and being set to 0.0 in labels with no predicted samples. Use `zero_division` parameter to control this behavior.\n",
            "  _warn_prf(average, modifier, msg_start, len(result))\n",
            "/usr/local/lib/python3.7/dist-packages/sklearn/metrics/_classification.py:1318: UndefinedMetricWarning: Precision and F-score are ill-defined and being set to 0.0 in labels with no predicted samples. Use `zero_division` parameter to control this behavior.\n",
            "  _warn_prf(average, modifier, msg_start, len(result))\n",
            "/usr/local/lib/python3.7/dist-packages/sklearn/metrics/_classification.py:1318: UndefinedMetricWarning: Precision and F-score are ill-defined and being set to 0.0 in labels with no predicted samples. Use `zero_division` parameter to control this behavior.\n",
            "  _warn_prf(average, modifier, msg_start, len(result))\n"
          ]
        }
      ]
    },
    {
      "cell_type": "code",
      "source": [
        "# Per Class Accuracy\n",
        "\n",
        "# confusion matrix\n",
        "cfm = confusion_matrix(y_amp_test, rf_preds)\n",
        "\n",
        "# we can plot our confusion matrices, and toggle the values to appear\n",
        "sns.heatmap(cfm, annot=True, fmt=\"d\")\n",
        "plt.title(\"AMP: Random Forest Confusion Matrix\")\n",
        "plt.xlabel(\"Predicted Class\")\n",
        "plt.ylabel(\"True Class\")\n",
        "plt.show()"
      ],
      "metadata": {
        "colab": {
          "base_uri": "https://localhost:8080/",
          "height": 295
        },
        "outputId": "3733bdbf-6eab-4138-cbda-d8d39bbcea05",
        "id": "qtm8_UWSLEdw"
      },
      "execution_count": null,
      "outputs": [
        {
          "output_type": "display_data",
          "data": {
            "text/plain": [
              "<Figure size 432x288 with 2 Axes>"
            ],
            "image/png": "[encoded data removed]"
          },
          "metadata": {
            "needs_background": "light"
          }
        }
      ]
    }
  ],
  "metadata": {
    "colab": {
      "collapsed_sections": [
        "bF8D1EeWaGAH",
        "A6WaukB-aGAK",
        "kNm-ci67_3Ek",
        "vIivLTbTCR8Q",
        "AWI7kIiKaGAN",
        "EhxbbrcTo__9",
        "4uqVdSnfwK3Z",
        "8j1cHSwDFn3C"
      ],
      "name": "cs181_project.ipynb",
      "provenance": []
    },
    "kernelspec": {
      "display_name": "Python 3",
      "language": "python",
      "name": "python3"
    },
    "language_info": {
      "codemirror_mode": {
        "name": "ipython",
        "version": 3
      },
      "file_extension": ".py",
      "mimetype": "text/x-python",
      "name": "python",
      "nbconvert_exporter": "python",
      "pygments_lexer": "ipython3",
      "version": "3.6.2"
    }
  },
  "nbformat": 4,
  "nbformat_minor": 0
}